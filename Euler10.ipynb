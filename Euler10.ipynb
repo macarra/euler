{
 "cells": [
  {
   "cell_type": "code",
   "execution_count": 7,
   "metadata": {
    "collapsed": false
   },
   "outputs": [
    {
     "name": "stdout",
     "output_type": "stream",
     "text": [
      "100000\n",
      "200000\n",
      "300000\n",
      "400000\n",
      "500000\n",
      "600000\n",
      "700000\n",
      "800000\n",
      "900000\n",
      "1000000\n",
      "1100000\n",
      "1200000\n",
      "1300000\n",
      "1400000\n",
      "1500000\n",
      "1600000\n",
      "1700000\n",
      "1800000\n",
      "1900000\n",
      "2000000\n",
      "82.36125016212463\n",
      "142913828922\n"
     ]
    }
   ],
   "source": [
    "\n",
    "import math as math\n",
    "import numpy as np\n",
    "import time\n",
    "def isprime(number):  \n",
    "    if number<=1 or number%2==0:  \n",
    "        return 0  \n",
    "    check=3  \n",
    "    maxneeded=number  \n",
    "    while check<maxneeded+1:  \n",
    "        maxneeded=number/check  \n",
    "        if number%check==0:  \n",
    "            return 0  \n",
    "        check+=2  \n",
    "    return 1  \n",
    "\n",
    "pcheck = isprime(10)\n",
    "prime=3\n",
    "s=time.time()\n",
    "sum=2+3\n",
    "interval=100000\n",
    "curinterval=100000\n",
    "maxval = 2000000\n",
    "while (prime < maxval):\n",
    "    prime+=2\n",
    "    pcheck = isprime(prime)\n",
    "    if pcheck:\n",
    "        sum+=prime\n",
    "        \n",
    "#    if prime >= curinterval: \n",
    "#        print(curinterval)\n",
    "#        curinterval+=interval\n",
    "\n",
    "#if prime > maxval: sum-=prime\n",
    "print(time.time() - s)\n",
    "print(sum)\n",
    "\n"
   ]
  },
  {
   "cell_type": "code",
   "execution_count": 6,
   "metadata": {
    "collapsed": true
   },
   "outputs": [],
   "source": [
    "#142911828922"
   ]
  }
 ],
 "metadata": {
  "kernelspec": {
   "display_name": "Python 3",
   "language": "python",
   "name": "python3"
  },
  "language_info": {
   "codemirror_mode": {
    "name": "ipython",
    "version": 3
   },
   "file_extension": ".py",
   "mimetype": "text/x-python",
   "name": "python",
   "nbconvert_exporter": "python",
   "pygments_lexer": "ipython3",
   "version": "3.4.3"
  }
 },
 "nbformat": 4,
 "nbformat_minor": 0
}
