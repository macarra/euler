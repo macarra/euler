{
 "cells": [
  {
   "cell_type": "code",
   "execution_count": 1,
   "metadata": {},
   "outputs": [
    {
     "name": "stdout",
     "output_type": "stream",
     "text": [
      "13.237603425979614\n",
      "142913828922\n"
     ]
    }
   ],
   "source": [
    "\n",
    "import math as math\n",
    "import numpy as np\n",
    "import time\n",
    "def isprime(number):  \n",
    "    if number<=1 or number%2==0:  \n",
    "        return 0  \n",
    "    check=3  \n",
    "    maxneeded=number  \n",
    "    while check<maxneeded+1:  \n",
    "        maxneeded=number/check  \n",
    "        if number%check==0:  \n",
    "            return 0  \n",
    "        check+=2  \n",
    "    return 1  \n",
    "\n",
    "pcheck = isprime(10)\n",
    "prime=3\n",
    "s=time.time()\n",
    "sum=2+3\n",
    "interval=100000\n",
    "curinterval=100000\n",
    "maxval = 2000000\n",
    "while (prime < maxval):\n",
    "    prime+=2\n",
    "    pcheck = isprime(prime)\n",
    "    if pcheck:\n",
    "        sum+=prime\n",
    "        \n",
    "#    if prime >= curinterval: \n",
    "#        print(curinterval)\n",
    "#        curinterval+=interval\n",
    "\n",
    "#if prime > maxval: sum-=prime\n",
    "print(time.time() - s)\n",
    "print(sum)\n",
    "\n"
   ]
  },
  {
   "cell_type": "code",
   "execution_count": 2,
   "metadata": {},
   "outputs": [],
   "source": [
    "#142911828922"
   ]
  }
 ],
 "metadata": {
  "kernelspec": {
   "display_name": "Python 3",
   "language": "python",
   "name": "python3"
  },
  "language_info": {
   "codemirror_mode": {
    "name": "ipython",
    "version": 3
   },
   "file_extension": ".py",
   "mimetype": "text/x-python",
   "name": "python",
   "nbconvert_exporter": "python",
   "pygments_lexer": "ipython3",
   "version": "3.6.5"
  }
 },
 "nbformat": 4,
 "nbformat_minor": 1
}
