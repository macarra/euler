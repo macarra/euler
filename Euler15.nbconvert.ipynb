{
 "cells": [
  {
   "cell_type": "markdown",
   "metadata": {},
   "source": [
    "\n",
    "\n",
    "Starting in the top left corner of a 2×2 grid, \n",
    "and only being able to move to the right and down, \n",
    "there are exactly 6 routes to the bottom right corner.\n",
    "\n",
    "How many such routes are there through a 20×20 grid?\n"
   ]
  },
  {
   "cell_type": "code",
   "execution_count": 1,
   "metadata": {
    "collapsed": false,
    "execution": {
     "iopub.execute_input": "2022-01-01T05:24:00.756370Z",
     "iopub.status.busy": "2022-01-01T05:24:00.755369Z",
     "iopub.status.idle": "2022-01-01T05:24:00.764542Z",
     "shell.execute_reply": "2022-01-01T05:24:00.764542Z"
    }
   },
   "outputs": [
    {
     "name": "stdout",
     "output_type": "stream",
     "text": [
      "137846528820\n"
     ]
    }
   ],
   "source": [
    "n=21\n",
    "alist=[]\n",
    "for x in range(n):\n",
    "    alist.append(1)\n",
    "#print(alist)\n",
    "for z in range(n-1):\n",
    "    blist=[]\n",
    "    blist.append(1)\n",
    "    for x in range(n-1):\n",
    "        #print(x)\n",
    "        blist.append(blist[x]+alist[x+1])\n",
    "        #print(blist)\n",
    "    #print(blist)\n",
    "    alist=blist.copy()\n",
    "print(alist[-1])"
   ]
  }
 ],
 "metadata": {
  "kernelspec": {
   "display_name": "Python 3",
   "language": "python",
   "name": "python3"
  },
  "language_info": {
   "codemirror_mode": {
    "name": "ipython",
    "version": 3
   },
   "file_extension": ".py",
   "mimetype": "text/x-python",
   "name": "python",
   "nbconvert_exporter": "python",
   "pygments_lexer": "ipython3",
   "version": "3.10.1"
  }
 },
 "nbformat": 4,
 "nbformat_minor": 0
}
