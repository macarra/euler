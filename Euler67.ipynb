{
 "cells": [
  {
   "cell_type": "code",
   "execution_count": null,
   "id": "f9edb9f8",
   "metadata": {},
   "outputs": [],
   "source": [
    "fin=open('untitled.txt')\n",
    "intext=fin.read()\n",
    "fin.close()"
   ]
  },
  {
   "cell_type": "code",
   "execution_count": null,
   "id": "6a689324",
   "metadata": {},
   "outputs": [],
   "source": [
    "numlist=intext.split(' ')"
   ]
  },
  {
   "cell_type": "code",
   "execution_count": null,
   "id": "2458e681",
   "metadata": {},
   "outputs": [],
   "source": [
    "total=len(numlist)\n",
    "print(total)"
   ]
  },
  {
   "cell_type": "code",
   "execution_count": null,
   "id": "a2dc1551",
   "metadata": {},
   "outputs": [],
   "source": [
    "thislen=1\n",
    "tristring=''\n",
    "start=0\n",
    "for index in range(0,100):\n",
    "    tristring+=' '.join(numlist[start:start+thislen])\n",
    "    tristring+='\\n'\n",
    "    start+=thislen\n",
    "    thislen+=1\n"
   ]
  },
  {
   "cell_type": "code",
   "execution_count": null,
   "id": "e24bda18",
   "metadata": {},
   "outputs": [],
   "source": [
    "fout=open('triangle.txt','w')\n",
    "fout.write(tristring)\n",
    "fout.close()\n"
   ]
  },
  {
   "cell_type": "code",
   "execution_count": null,
   "id": "bc4e7236",
   "metadata": {},
   "outputs": [],
   "source": [
    "trianglestring=tristring[0:-1]\n",
    "trilines = trianglestring.split('\\n')\n",
    "print(len(trilines))\n",
    "print(trilines)"
   ]
  },
  {
   "cell_type": "code",
   "execution_count": null,
   "id": "a8594f2d",
   "metadata": {},
   "outputs": [],
   "source": [
    "triangle = []\n",
    "for line in trilines:\n",
    "    numbers = line.split(\" \")\n",
    "    numbers = [x for x in map(int,numbers)]\n",
    "    #numbers = [int(x) for x in numbers]\n",
    "    triangle.append(numbers)\n",
    "print(triangle)"
   ]
  },
  {
   "cell_type": "code",
   "execution_count": null,
   "id": "27693e96",
   "metadata": {},
   "outputs": [],
   "source": [
    "for i in range(98,-1,-1):\n",
    "    row=triangle[i]\n",
    "    uprow=triangle[i+1]\n",
    "    #print(i)\n",
    "    for index in range(0,len(row)):\n",
    "        #print(row[index],uprow[index],uprow[index+1])\n",
    "        row[index]+=max(uprow[index],uprow[index+1])\n",
    "        #print(row)\n",
    "    #print()\n",
    "print(row)"
   ]
  },
  {
   "cell_type": "code",
   "execution_count": null,
   "id": "c3944720",
   "metadata": {},
   "outputs": [],
   "source": []
  }
 ],
 "metadata": {
  "kernelspec": {
   "display_name": "saturn (Python 3)",
   "language": "python",
   "name": "python3"
  },
  "language_info": {
   "codemirror_mode": {
    "name": "ipython",
    "version": 3
   },
   "file_extension": ".py",
   "mimetype": "text/x-python",
   "name": "python",
   "nbconvert_exporter": "python",
   "pygments_lexer": "ipython3",
   "version": "3.9.12"
  }
 },
 "nbformat": 4,
 "nbformat_minor": 5
}
