{
 "cells": [
  {
   "cell_type": "code",
   "execution_count": 4,
   "id": "02a28f3b",
   "metadata": {},
   "outputs": [
    {
     "data": {
      "text/plain": [
       "44"
      ]
     },
     "execution_count": 4,
     "metadata": {},
     "output_type": "execute_result"
    }
   ],
   "source": [
    "import numpy as np\n",
    "np.random.randint(0,100)\n"
   ]
  },
  {
   "cell_type": "code",
   "execution_count": 17,
   "id": "937a6c50",
   "metadata": {},
   "outputs": [
    {
     "data": {
      "text/plain": [
       "[[51],\n",
       " [50, 23],\n",
       " [61, 28, 92],\n",
       " [61, 70, 70, 14],\n",
       " [12, 44, 41, 57, 57],\n",
       " [85, 48, 51, 68, 37, 32]]"
      ]
     },
     "execution_count": 17,
     "metadata": {},
     "output_type": "execute_result"
    }
   ],
   "source": [
    "triangle =[]\n",
    "for rownum in range(1,7):\n",
    "    row = [ np.random.randint(0,100) for x in range(rownum)]\n",
    "    triangle.append(row)\n",
    "    \n",
    "triangle"
   ]
  },
  {
   "cell_type": "code",
   "execution_count": 18,
   "id": "3a066f95",
   "metadata": {},
   "outputs": [
    {
     "data": {
      "text/plain": [
       "405"
      ]
     },
     "execution_count": 18,
     "metadata": {},
     "output_type": "execute_result"
    }
   ],
   "source": [
    "tsum = 0\n",
    "for row in triangle:\n",
    "   tsum+=max(row)\n",
    "tsum"
   ]
  }
 ],
 "metadata": {
  "kernelspec": {
   "display_name": "saturn (Python 3)",
   "language": "python",
   "name": "python3"
  },
  "language_info": {
   "codemirror_mode": {
    "name": "ipython",
    "version": 3
   },
   "file_extension": ".py",
   "mimetype": "text/x-python",
   "name": "python",
   "nbconvert_exporter": "python",
   "pygments_lexer": "ipython3",
   "version": "3.9.12"
  }
 },
 "nbformat": 4,
 "nbformat_minor": 5
}
