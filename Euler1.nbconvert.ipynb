{
 "cells": [
  {
   "cell_type": "code",
   "execution_count": 1,
   "metadata": {
    "execution": {
     "iopub.execute_input": "2022-01-01T05:23:23.856892Z",
     "iopub.status.busy": "2022-01-01T05:23:23.852882Z",
     "iopub.status.idle": "2022-01-01T05:23:23.874378Z",
     "shell.execute_reply": "2022-01-01T05:23:23.874378Z"
    }
   },
   "outputs": [
    {
     "name": "stdout",
     "output_type": "stream",
     "text": [
      "233168\n"
     ]
    }
   ],
   "source": [
    "from utils import *\n",
    "sum=0\n",
    "for x in range(1000):\n",
    "    if ( x%3 ==0 or x%5== 0): sum+=x\n",
    "        \n",
    "print(sum)"
   ]
  },
  {
   "cell_type": "code",
   "execution_count": 2,
   "metadata": {
    "execution": {
     "iopub.execute_input": "2022-01-01T05:23:23.877393Z",
     "iopub.status.busy": "2022-01-01T05:23:23.876378Z",
     "iopub.status.idle": "2022-01-01T05:23:23.884379Z",
     "shell.execute_reply": "2022-01-01T05:23:23.884379Z"
    }
   },
   "outputs": [],
   "source": [
    "printOUT(1,sum)"
   ]
  }
 ],
 "metadata": {
  "kernelspec": {
   "display_name": "Python 3",
   "language": "python",
   "name": "python3"
  },
  "language_info": {
   "codemirror_mode": {
    "name": "ipython",
    "version": 3
   },
   "file_extension": ".py",
   "mimetype": "text/x-python",
   "name": "python",
   "nbconvert_exporter": "python",
   "pygments_lexer": "ipython3",
   "version": "3.10.1"
  }
 },
 "nbformat": 4,
 "nbformat_minor": 1
}
