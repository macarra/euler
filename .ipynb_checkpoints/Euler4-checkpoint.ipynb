{
 "cells": [
  {
   "cell_type": "code",
   "execution_count": 1,
   "metadata": {
    "collapsed": false
   },
   "outputs": [
    {
     "name": "stdout",
     "output_type": "stream",
     "text": [
      "906609\n"
     ]
    }
   ],
   "source": [
    "\n",
    "import math as math\n",
    "import numpy as np\n",
    "\n",
    "isPali = lambda num: str(num) == str(num)[::-1]\n",
    "\n",
    "xlist=[]\n",
    "for i in range(100,1000):\n",
    "    for j in range(100,1000):\n",
    "        num=i*j\n",
    "        if isPali(num):\n",
    "            xlist.append(num)\n",
    "            \n",
    "sortlist = np.argsort(xlist)\n",
    "print(xlist[sortlist[-1]])\n",
    "\n"
   ]
  }
 ],
 "metadata": {
  "kernelspec": {
   "display_name": "Python 3",
   "language": "python",
   "name": "python3"
  },
  "language_info": {
   "codemirror_mode": {
    "name": "ipython",
    "version": 3
   },
   "file_extension": ".py",
   "mimetype": "text/x-python",
   "name": "python",
   "nbconvert_exporter": "python",
   "pygments_lexer": "ipython3",
   "version": "3.5.1"
  }
 },
 "nbformat": 4,
 "nbformat_minor": 0
}
