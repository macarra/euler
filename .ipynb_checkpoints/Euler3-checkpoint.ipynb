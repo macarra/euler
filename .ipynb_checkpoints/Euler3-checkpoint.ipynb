{
 "cells": [
  {
   "cell_type": "raw",
   "metadata": {},
   "source": [
    "Euler 3\n",
    "\n",
    "The prime factors of 13195 are 5, 7, 13 and 29.\n",
    "\n",
    "What is the largest prime factor of the number 600851475143 ?\n"
   ]
  },
  {
   "cell_type": "code",
   "execution_count": 1,
   "metadata": {},
   "outputs": [],
   "source": [
    "import math as math\n",
    "import numpy as np\n",
    "prime=600851475143\n",
    "np.set_printoptions(precision=100)\n",
    "#Pollard's rho algorithm for factorization can be implemented as:\n",
    "def gcd(a,b):\n",
    "    if a == 0:\n",
    "        return b\n",
    "    return gcd(b % a, a)"
   ]
  },
  {
   "cell_type": "code",
   "execution_count": 12,
   "metadata": {},
   "outputs": [
    {
     "data": {
      "text/plain": [
       "-1"
      ]
     },
     "execution_count": 12,
     "metadata": {},
     "output_type": "execute_result"
    }
   ],
   "source": [
    "def factorPR(n):\n",
    "    for slow in [2,3,4,6]:\n",
    "        numsteps=2*math.floor(math.sqrt(math.sqrt(n))); fast=slow; i=1\n",
    "        while i<numsteps:\n",
    "            slow = (slow*slow + 1) % n\n",
    "            i = i + 1\n",
    "            fast = (fast*fast + 1) % n\n",
    "            fast = (fast*fast + 1) % n\n",
    "            g = gcd(fast-slow,n)\n",
    "            if (g != 1):\n",
    "                if (g == n):\n",
    "                    break # try a new base\n",
    "                else:\n",
    "                    return g\n",
    "    return 1 # fail to factor\n",
    "factorPR(prime)"
   ]
  },
  {
   "cell_type": "code",
   "execution_count": 29,
   "metadata": {},
   "outputs": [
    {
     "name": "stdout",
     "output_type": "stream",
     "text": [
      "6857\n"
     ]
    }
   ],
   "source": [
    "#def factors(n):    \n",
    "#    return set(reduce(list.__add__,  ([i, n//i] for i in range(1, int(n**0.5) + 1) if n % i == 0)))\n",
    "\n",
    "def factors(n):\n",
    "    return set(x for tup in ([i, n//i] \n",
    "                for i in range(1, int(n**0.5)+1) if n % i == 0) \n",
    "                                for x in tup)\n",
    "\n",
    "x=[]\n",
    "\n",
    "x = factors(prime)\n",
    "\n",
    "primefactors=[]\n",
    "for z in x:\n",
    "    zfactors = list(factors(z))\n",
    "    if len(zfactors)==2:\n",
    "        primefactors.append(zfactors[1])\n",
    "print(max(primefactors))\n"
   ]
  },
  {
   "cell_type": "markdown",
   "metadata": {},
   "source": [
    "largest PRIME factor is 6857"
   ]
  }
 ],
 "metadata": {
  "kernelspec": {
   "display_name": "Python 3 (ipykernel)",
   "language": "python",
   "name": "python3"
  },
  "language_info": {
   "codemirror_mode": {
    "name": "ipython",
    "version": 3
   },
   "file_extension": ".py",
   "mimetype": "text/x-python",
   "name": "python",
   "nbconvert_exporter": "python",
   "pygments_lexer": "ipython3",
   "version": "3.10.5"
  }
 },
 "nbformat": 4,
 "nbformat_minor": 1
}
