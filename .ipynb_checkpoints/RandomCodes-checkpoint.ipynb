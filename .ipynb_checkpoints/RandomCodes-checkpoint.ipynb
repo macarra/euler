{
 "cells": [
  {
   "cell_type": "code",
   "execution_count": 1,
   "metadata": {
    "collapsed": false
   },
   "outputs": [
    {
     "name": "stdout",
     "output_type": "stream",
     "text": [
      "1870212\n",
      "[5, 7, 4, 8, 2, 3, 6, 1, 0, 9]\n"
     ]
    }
   ],
   "source": [
    "import numpy as np\n",
    "\n",
    "sid='macarra'\n",
    "sum=0\n",
    "\n",
    "alphalist=[]\n",
    "for letter in 'abcdefghijklmnopqrstuvwxyz':\n",
    "    alphalist.append(letter)\n",
    "    \n",
    "tenpow=0\n",
    "for letter in sid:\n",
    "    sum+= alphalist.index(letter)*10**tenpow\n",
    "    tenpow+=1\n",
    "\n",
    "print(sum)\n",
    "np.random.seed(sum)\n",
    "\n",
    "\n",
    "codetypes = []\n",
    "for code in ('block', 'ldpc', 'conv', 'blockconv', 'tpc', 'sccc', 'pccc', 'rs', 'polar', 'crc'):\n",
    "    codetypes.append(code)\n",
    "\n",
    "codelist = [x for x in range(len(codetypes))]\n",
    "np.random.shuffle(codelist)\n",
    "\n",
    "print(codelist)"
   ]
  },
  {
   "cell_type": "code",
   "execution_count": 2,
   "metadata": {
    "collapsed": false
   },
   "outputs": [
    {
     "name": "stdout",
     "output_type": "stream",
     "text": [
      "Doing sccc code\n",
      "Doing rs code\n",
      "Doing tpc code\n",
      "Doing polar code\n",
      "Doing conv code\n",
      "Doing blockconv code\n",
      "Doing pccc code\n",
      "Doing ldpc code\n",
      "Doing block code\n",
      "Doing crc code\n"
     ]
    }
   ],
   "source": [
    "for code in codelist:\n",
    "    print(\"Doing\",codetypes[code],\"code\")"
   ]
  },
  {
   "cell_type": "code",
   "execution_count": 3,
   "metadata": {
    "collapsed": false
   },
   "outputs": [
    {
     "name": "stdout",
     "output_type": "stream",
     "text": [
      "block\n",
      "ldpc\n",
      "conv\n",
      "blockconv\n",
      "tpc\n",
      "sccc\n",
      "pccc\n",
      "rs\n",
      "polar\n",
      "crc\n"
     ]
    }
   ],
   "source": [
    "codeparams=dict()\n",
    "for code in codetypes:\n",
    "    print(code)\n",
    "    codeparams[code]=dict()\n",
    "    \n",
    "codeparams['rs']['symbol size']=8\n",
    "codeparams['rs']['field']=0x13\n",
    "codeparams['conv']['rate']=2\n",
    "codeparams['rs']['codename']=\"Reed Solomon\"\n"
   ]
  }
 ],
 "metadata": {
  "kernelspec": {
   "display_name": "Python 3",
   "language": "python",
   "name": "python3"
  },
  "language_info": {
   "codemirror_mode": {
    "name": "ipython",
    "version": 3
   },
   "file_extension": ".py",
   "mimetype": "text/x-python",
   "name": "python",
   "nbconvert_exporter": "python",
   "pygments_lexer": "ipython3",
   "version": "3.5.1"
  }
 },
 "nbformat": 4,
 "nbformat_minor": 0
}
