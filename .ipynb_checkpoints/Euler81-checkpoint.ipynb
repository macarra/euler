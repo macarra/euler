{
 "cells": [
  {
   "cell_type": "code",
   "execution_count": 2,
   "metadata": {
    "collapsed": false
   },
   "outputs": [
    {
     "data": {
      "text/plain": [
       "(80, 80)"
      ]
     },
     "execution_count": 2,
     "metadata": {},
     "output_type": "execute_result"
    }
   ],
   "source": [
    "import numpy as np\n",
    "m = np.loadtxt(\"p081_matrix.txt\", delimiter=\",\")\n",
    "m.shape\n"
   ]
  },
  {
   "cell_type": "code",
   "execution_count": 3,
   "metadata": {
    "collapsed": false
   },
   "outputs": [
    {
     "data": {
      "text/plain": [
       "array([[ 4445.,  2697.,  5115., ...,  2758.,  3748.,  5870.],\n",
       "       [ 1096.,    20.,  1318., ...,  4187.,  9353.,  9377.],\n",
       "       [ 9607.,  7385.,   521., ...,  9515.,  6385.,  9230.],\n",
       "       ..., \n",
       "       [ 2265.,  8192.,  1763., ...,  7456.,  5128.,  5294.],\n",
       "       [ 2132.,  8992.,  8160., ...,  5634.,  1113.,  5789.],\n",
       "       [ 5304.,  5499.,   564., ...,  2751.,  3406.,  7981.]])"
      ]
     },
     "execution_count": 3,
     "metadata": {},
     "output_type": "execute_result"
    }
   ],
   "source": [
    "m"
   ]
  }
 ],
 "metadata": {
  "kernelspec": {
   "display_name": "Python 3",
   "language": "python",
   "name": "python3"
  },
  "language_info": {
   "codemirror_mode": {
    "name": "ipython",
    "version": 3
   },
   "file_extension": ".py",
   "mimetype": "text/x-python",
   "name": "python",
   "nbconvert_exporter": "python",
   "pygments_lexer": "ipython3",
   "version": "3.5.1"
  }
 },
 "nbformat": 4,
 "nbformat_minor": 0
}
