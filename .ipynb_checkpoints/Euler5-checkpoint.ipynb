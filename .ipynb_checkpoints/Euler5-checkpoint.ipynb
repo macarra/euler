{
 "cells": [
  {
   "cell_type": "code",
   "execution_count": 2,
   "metadata": {
    "collapsed": false
   },
   "outputs": [
    {
     "name": "stdout",
     "output_type": "stream",
     "text": [
      "232792560\n",
      "\n",
      "1 232792560.0\n",
      "2 116396280.0\n",
      "3 77597520.0\n",
      "4 58198140.0\n",
      "5 46558512.0\n",
      "6 38798760.0\n",
      "7 33256080.0\n",
      "8 29099070.0\n",
      "9 25865840.0\n",
      "10 23279256.0\n",
      "11 21162960.0\n",
      "12 19399380.0\n",
      "13 17907120.0\n",
      "14 16628040.0\n",
      "15 15519504.0\n",
      "16 14549535.0\n",
      "17 13693680.0\n",
      "18 12932920.0\n",
      "19 12252240.0\n",
      "20 11639628.0\n"
     ]
    }
   ],
   "source": [
    "import math as math\n",
    "import numpy as np\n",
    "\n",
    "num= 2*7*8*9*5*11*13*17*19\n",
    "print(num)\n",
    "print()\n",
    "for x in range(1,21):\n",
    "    print(x, num/x)"
   ]
  },
  {
   "cell_type": "code",
   "execution_count": null,
   "metadata": {
    "collapsed": true
   },
   "outputs": [],
   "source": []
  }
 ],
 "metadata": {
  "kernelspec": {
   "display_name": "Python 3",
   "language": "python",
   "name": "python3"
  },
  "language_info": {
   "codemirror_mode": {
    "name": "ipython",
    "version": 3
   },
   "file_extension": ".py",
   "mimetype": "text/x-python",
   "name": "python",
   "nbconvert_exporter": "python",
   "pygments_lexer": "ipython3",
   "version": "3.5.1"
  }
 },
 "nbformat": 4,
 "nbformat_minor": 0
}
