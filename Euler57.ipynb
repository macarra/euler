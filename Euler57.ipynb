{
 "cells": [
  {
   "cell_type": "markdown",
   "id": "7b8bb81e",
   "metadata": {},
   "source": [
    "It is possible to show that the square root of two can be expressed as an infinite continued fraction.\n",
    "\n",
    "By expanding this for the first four iterations, we get:\n",
    "\n",
    "\n",
    "\n",
    "\n",
    "\n",
    "The next three expansions are\n",
    ",\n",
    ", and\n",
    ", but the eighth expansion,\n",
    "\n",
    ", is the first example where the number of digits in the numerator exceeds the number of digits in the denominator.\n",
    "\n",
    "In the first one-thousand expansions, how many fractions contain a numerator with more digits than the denominator?"
   ]
  },
  {
   "cell_type": "code",
   "execution_count": 2,
   "id": "37279341",
   "metadata": {},
   "outputs": [
    {
     "name": "stdout",
     "output_type": "stream",
     "text": [
      "1.3027756377319946\n"
     ]
    }
   ],
   "source": [
    "from functools import reduce\n",
    "nvals=20\n",
    "result = reduce(lambda x, y: 1+1/(x+1/y), [0.5 for index in range(nvals)])\n",
    "print(result)"
   ]
  },
  {
   "cell_type": "code",
   "execution_count": null,
   "id": "9ad701df",
   "metadata": {},
   "outputs": [],
   "source": []
  }
 ],
 "metadata": {
  "kernelspec": {
   "display_name": "Python 3 (ipykernel)",
   "language": "python",
   "name": "python3"
  },
  "language_info": {
   "codemirror_mode": {
    "name": "ipython",
    "version": 3
   },
   "file_extension": ".py",
   "mimetype": "text/x-python",
   "name": "python",
   "nbconvert_exporter": "python",
   "pygments_lexer": "ipython3",
   "version": "3.10.5"
  }
 },
 "nbformat": 4,
 "nbformat_minor": 5
}
