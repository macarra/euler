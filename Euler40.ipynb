{
 "cells": [
  {
   "cell_type": "markdown",
   "id": "ccffba81",
   "metadata": {},
   "source": [
    "\n",
    "\n",
    "An irrational decimal fraction is created by concatenating the positive integers:\n",
    "\n",
    "0.123456789101112131415161718192021...\n",
    "\n",
    "It can be seen that the 12th digit of the fractional part is 1.\n",
    "\n",
    "If dn represents the nth digit of the fractional part, find the value of the following expression.\n",
    "\n",
    "d1 × d10 × d100 × d1000 × d10000 × d100000 × d1000000\n"
   ]
  },
  {
   "cell_type": "code",
   "execution_count": 2,
   "id": "15cae9fa",
   "metadata": {},
   "outputs": [
    {
     "data": {
      "text/plain": [
       "'123456789101112'"
      ]
     },
     "execution_count": 2,
     "metadata": {},
     "output_type": "execute_result"
    }
   ],
   "source": [
    "def buildString(max):\n",
    "    text = ''\n",
    "    for i in range(1,max+1):\n",
    "        text+=str(i)\n",
    "    return text\n",
    "buildString(12)"
   ]
  },
  {
   "cell_type": "code",
   "execution_count": 11,
   "id": "2805bbd3",
   "metadata": {},
   "outputs": [
    {
     "data": {
      "text/plain": [
       "'5'"
      ]
     },
     "execution_count": 11,
     "metadata": {},
     "output_type": "execute_result"
    }
   ],
   "source": [
    "def getVal(n):\n",
    "    text = buildString(n)\n",
    "    return text[n-1]\n",
    "getVal(5)"
   ]
  },
  {
   "cell_type": "code",
   "execution_count": 16,
   "id": "08d08948",
   "metadata": {},
   "outputs": [
    {
     "data": {
      "text/plain": [
       "210"
      ]
     },
     "execution_count": 16,
     "metadata": {},
     "output_type": "execute_result"
    }
   ],
   "source": [
    "dvals = [1,10,100,1000,10000,100000,1000000]\n",
    "def getMul(dvals):\n",
    "    mul=1\n",
    "    for i in dvals:\n",
    "        val = getVal(i)\n",
    "        #print(i,val)\n",
    "        mul *= int(val)\n",
    "    return mul\n",
    "getMul(dvals)"
   ]
  }
 ],
 "metadata": {
  "kernelspec": {
   "display_name": "Python 3 (ipykernel)",
   "language": "python",
   "name": "python3"
  },
  "language_info": {
   "codemirror_mode": {
    "name": "ipython",
    "version": 3
   },
   "file_extension": ".py",
   "mimetype": "text/x-python",
   "name": "python",
   "nbconvert_exporter": "python",
   "pygments_lexer": "ipython3",
   "version": "3.10.5"
  }
 },
 "nbformat": 4,
 "nbformat_minor": 5
}
