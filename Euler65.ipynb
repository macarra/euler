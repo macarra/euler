{
 "cells": [
  {
   "cell_type": "markdown",
   "id": "06be09e9",
   "metadata": {},
   "source": [
    "e = [2; 1, 2, 1, 1, 4, 1, 1, 6, 1, ... , 1, 2k, 1, ...]"
   ]
  },
  {
   "cell_type": "markdown",
   "id": "b3400bfe",
   "metadata": {},
   "source": [
    "The square root of 2 can be written as an infinite continued fraction.\n",
    "\n",
    "The infinite continued fraction can be written, , indicates that 2 repeats ad infinitum. In a similar way,\n",
    "\n",
    "\\sqrt{2} = 1 + \\dfrac{1}{2 + \\dfrac{1}{2 + \\dfrac{1}{2 + \\dfrac{1}{2 + ...}}}}\n",
    "\n",
    "It turns out that the sequence of partial values of continued fractions for square roots provide the best rational approximations. Let us consider the convergents for\n",
    "\n",
    ".\n",
    "\n",
    "Hence the sequence of the first ten convergents for\n",
    "\n",
    "are:\n",
    "\n",
    "What is most surprising is that the important mathematical constant,\n",
    "\n",
    ".\n",
    "\n",
    "The first ten terms in the sequence of convergents for e are:\n",
    "\n",
    "The sum of digits in the numerator of the 10th convergent is\n",
    "\n",
    ".\n",
    "\n",
    "Find the sum of digits in the numerator of the 100th convergent of the continued fraction for\n",
    "."
   ]
  },
  {
   "cell_type": "code",
   "execution_count": null,
   "id": "a4948312",
   "metadata": {},
   "outputs": [],
   "source": [
    "from functools import reduce\n",
    "nvals=20\n",
    "result = reduce(lambda x, y: 1+1/(x+1/y), [0.5 for index in range(nvals)])\n",
    "print(result)"
   ]
  }
 ],
 "metadata": {
  "kernelspec": {
   "display_name": "Python 3 (ipykernel)",
   "language": "python",
   "name": "python3"
  },
  "language_info": {
   "codemirror_mode": {
    "name": "ipython",
    "version": 3
   },
   "file_extension": ".py",
   "mimetype": "text/x-python",
   "name": "python",
   "nbconvert_exporter": "python",
   "pygments_lexer": "ipython3",
   "version": "3.10.5"
  }
 },
 "nbformat": 4,
 "nbformat_minor": 5
}
