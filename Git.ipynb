{
 "cells": [
  {
   "cell_type": "code",
   "execution_count": 2,
   "id": "20b87c41",
   "metadata": {},
   "outputs": [
    {
     "name": "stdout",
     "output_type": "stream",
     "text": [
      "On branch master\r\n",
      "Your branch is up to date with 'origin/master'.\r\n",
      "\r\n",
      "Untracked files:\r\n",
      "  (use \"git add <file>...\" to include in what will be committed)\r\n",
      "\t\u001b[31mEuler18.ipynb\u001b[m\r\n",
      "\t\u001b[31msave18\u001b[m\r\n",
      "\t\u001b[31msave39\u001b[m\r\n",
      "\t\u001b[31msave67\u001b[m\r\n",
      "\t\u001b[31muntitled.txt\u001b[m\r\n",
      "\r\n",
      "nothing added to commit but untracked files present (use \"git add\" to track)\r\n"
     ]
    }
   ],
   "source": [
    "!git status"
   ]
  },
  {
   "cell_type": "code",
   "execution_count": 3,
   "id": "368e0f46",
   "metadata": {},
   "outputs": [],
   "source": [
    "!git add Euler18.ipynb\n"
   ]
  },
  {
   "cell_type": "code",
   "execution_count": 4,
   "id": "bb36f7d6",
   "metadata": {},
   "outputs": [
    {
     "name": "stdout",
     "output_type": "stream",
     "text": [
      "[master 0e9b52f] fixed Euler18 notebook\r\n",
      " 1 file changed, 219 insertions(+)\r\n",
      " create mode 100644 Euler18.ipynb\r\n"
     ]
    }
   ],
   "source": [
    "!git commit -m \"fixed Euler18 notebook\""
   ]
  },
  {
   "cell_type": "code",
   "execution_count": 15,
   "id": "072f49bf",
   "metadata": {},
   "outputs": [
    {
     "name": "stdout",
     "output_type": "stream",
     "text": [
      "Enumerating objects: 5, done.\n",
      "Counting objects: 100% (5/5), done.\n",
      "Delta compression using up to 8 threads\n",
      "Compressing objects: 100% (3/3), done.\n",
      "Writing objects: 100% (3/3), 511 bytes | 511.00 KiB/s, done.\n",
      "Total 3 (delta 2), reused 0 (delta 0), pack-reused 0\n",
      "remote: Resolving deltas: 100% (2/2), completed with 2 local objects.\u001b[K\n",
      "To github.com:macarra/euler.git\n",
      "   2a539ae..3b81a85  master -> master\n"
     ]
    }
   ],
   "source": [
    "!git push"
   ]
  }
 ],
 "metadata": {
  "kernelspec": {
   "display_name": "saturn (Python 3)",
   "language": "python",
   "name": "python3"
  },
  "language_info": {
   "codemirror_mode": {
    "name": "ipython",
    "version": 3
   },
   "file_extension": ".py",
   "mimetype": "text/x-python",
   "name": "python",
   "nbconvert_exporter": "python",
   "pygments_lexer": "ipython3",
   "version": "3.9.12"
  }
 },
 "nbformat": 4,
 "nbformat_minor": 5
}
