{
 "cells": [
  {
   "cell_type": "code",
   "execution_count": 3,
   "metadata": {
    "collapsed": false
   },
   "outputs": [
    {
     "name": "stdout",
     "output_type": "stream",
     "text": [
      "1 82\n",
      "2 89\n",
      "3 82\n",
      "4 75\n",
      "5 94\n",
      "6 79\n",
      "7 90\n",
      "8 91\n",
      "9 82\n",
      "10 83\n",
      "11 95\n",
      "12 92\n",
      "13 97\n",
      "14 99\n",
      "15 77\n",
      "16 86\n",
      "17 87\n",
      "18 89\n",
      "19 87\n",
      "20 109\n",
      "21 83\n",
      "22 85\n",
      "23 106\n",
      "24 83\n",
      "25 74\n",
      "26 91\n",
      "27 73\n",
      "28 78\n",
      "29 80\n",
      "30 93\n",
      "31 74\n",
      "32 103\n",
      "33 78\n",
      "34 68\n",
      "35 64\n",
      "36 87\n",
      "37 85\n",
      "38 75\n",
      "39 78\n",
      "40 76\n",
      "41 82\n",
      "42 68\n",
      "43 59\n",
      "44 60\n",
      "45 67\n",
      "46 59\n",
      "47 70\n",
      "48 66\n",
      "49 74\n",
      "50 55\n",
      "51 66\n",
      "52 72\n",
      "53 65\n",
      "54 64\n",
      "55 67\n",
      "56 50\n",
      "57 43\n",
      "58 50\n",
      "59 54\n"
     ]
    }
   ],
   "source": [
    "# Open file\n",
    "import matplotlib.pyplot as P\n",
    "maxball=60\n",
    "draws=[]\n",
    "counts=[ 0 for x in range(maxball)]\n",
    "with open(\"NoPowerball.txt\", \"r\") as f:  \n",
    "    # Read next line\n",
    "    line = f.readline().rstrip()\n",
    "    line = f.readline().rstrip()\n",
    "    line=f.readline().rstrip()\n",
    "#    print(line)\n",
    "#    print((line.split()))\n",
    "    draws.append([int(x) for x in line.split()])\n",
    "    while line:\n",
    "        for x in range(4): f.readline()\n",
    "        line=f.readline().rstrip()\n",
    "        #print(line.split())\n",
    "        draws.append( [int(x) for x in line.split()])\n",
    "    \n",
    "f.close()\n",
    "\n",
    "for draw in draws:\n",
    "    for ball in draw:\n",
    "        counts[ball]+=1\n",
    "\n",
    "for x in range(1,maxball):\n",
    "    print(x,counts[x])\n"
   ]
  },
  {
   "cell_type": "code",
   "execution_count": null,
   "metadata": {
    "collapsed": true
   },
   "outputs": [],
   "source": [
    "import itertools as iter\n",
    "numrange=60\n",
    "numballs=6\n",
    "numdraws=100\n",
    "total=numballs*numdraws\n",
    "combos = [x for x in iter.combinations(lotto(numballs,numrange),2)]"
   ]
  },
  {
   "cell_type": "code",
   "execution_count": 9,
   "metadata": {
    "collapsed": false
   },
   "outputs": [],
   "source": [
    "combos = [x for x in iter.combinations(draws,2)]\n",
    "#print(combos)\n",
    "#P.plot(combos,'.');"
   ]
  },
  {
   "cell_type": "code",
   "execution_count": null,
   "metadata": {
    "collapsed": true
   },
   "outputs": [],
   "source": []
  }
 ],
 "metadata": {
  "kernelspec": {
   "display_name": "Python 3",
   "language": "python",
   "name": "python3"
  },
  "language_info": {
   "codemirror_mode": {
    "name": "ipython",
    "version": 3
   },
   "file_extension": ".py",
   "mimetype": "text/x-python",
   "name": "python",
   "nbconvert_exporter": "python",
   "pygments_lexer": "ipython3",
   "version": "3.4.4"
  }
 },
 "nbformat": 4,
 "nbformat_minor": 0
}
