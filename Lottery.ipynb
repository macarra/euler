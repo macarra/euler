{
 "cells": [
  {
   "cell_type": "code",
   "execution_count": null,
   "metadata": {
    "collapsed": false
   },
   "outputs": [],
   "source": [
    "# Open file\n",
    "import matplotlib.pyplot as P\n",
    "maxball=60\n",
    "draws=[]\n",
    "counts=[ 0 for x in range(maxball)]\n",
    "with open(\"NoPowerball.txt\", \"r\") as f:  \n",
    "    # Read next line\n",
    "    line = f.readline().rstrip()\n",
    "    line = f.readline().rstrip()\n",
    "    line=f.readline().rstrip()\n",
    "#    print(line)\n",
    "#    print((line.split()))\n",
    "    draws.append([int(x) for x in line.split()])\n",
    "    while line:\n",
    "        for x in range(4): f.readline()\n",
    "        line=f.readline().rstrip()\n",
    "        #print(line.split())\n",
    "        draws.append( [int(x) for x in line.split()])\n",
    "    \n",
    "f.close()\n",
    "\n",
    "for draw in draws:\n",
    "    for ball in draw:\n",
    "        counts[ball]+=1\n",
    "\n",
    "for x in range(1,maxball):\n",
    "    print(x,counts{x})\n"
   ]
  }
 ],
 "metadata": {
  "kernelspec": {
   "display_name": "Python 3",
   "language": "python",
   "name": "python3"
  },
  "language_info": {
   "codemirror_mode": {
    "name": "ipython",
    "version": 3
   },
   "file_extension": ".py",
   "mimetype": "text/x-python",
   "name": "python",
   "nbconvert_exporter": "python",
   "pygments_lexer": "ipython3",
   "version": "3.4.4"
  }
 },
 "nbformat": 4,
 "nbformat_minor": 0
}
