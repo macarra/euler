{
 "cells": [
  {
   "cell_type": "markdown",
   "metadata": {},
   "source": [
    "Problem 34\n",
    "\n",
    "145 is a curious number, as 1! + 4! + 5! = 1 + 24 + 120 = 145.\n",
    "\n",
    "Find the sum of all numbers which are equal to the sum of the factorial of their digits.\n",
    "\n",
    "Note: as 1! = 1 and 2! = 2 are not sums they are not included.\n"
   ]
  },
  {
   "cell_type": "code",
   "execution_count": 1,
   "metadata": {
    "collapsed": false
   },
   "outputs": [
    {
     "data": {
      "text/plain": [
       "True"
      ]
     },
     "execution_count": 1,
     "metadata": {},
     "output_type": "execute_result"
    }
   ],
   "source": [
    "import math\n",
    "def isFactorSum(num=145):\n",
    "    numstr=str(num)\n",
    "    fsum=0\n",
    "    for dig in numstr:\n",
    "        fsum+=math.factorial(int(dig))\n",
    "        \n",
    "    if fsum == num: return True\n",
    "    return False\n",
    "isFactorSum(145)"
   ]
  },
  {
   "cell_type": "code",
   "execution_count": 2,
   "metadata": {
    "collapsed": false
   },
   "outputs": [
    {
     "name": "stdout",
     "output_type": "stream",
     "text": [
      "40730\n"
     ]
    }
   ],
   "source": [
    "fsum=0\n",
    "for num in range(10,100000):\n",
    "    if isFactorSum(num): fsum+=num\n",
    "print(fsum)"
   ]
  },
  {
   "cell_type": "markdown",
   "metadata": {},
   "source": [
    "Answer 40730"
   ]
  }
 ],
 "metadata": {
  "kernelspec": {
   "display_name": "Python 3",
   "language": "python",
   "name": "python3"
  },
  "language_info": {
   "codemirror_mode": {
    "name": "ipython",
    "version": 3
   },
   "file_extension": ".py",
   "mimetype": "text/x-python",
   "name": "python",
   "nbconvert_exporter": "python",
   "pygments_lexer": "ipython3",
   "version": "3.5.1"
  }
 },
 "nbformat": 4,
 "nbformat_minor": 0
}
