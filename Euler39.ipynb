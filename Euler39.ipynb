{
 "cells": [
  {
   "cell_type": "markdown",
   "metadata": {},
   "source": [
    "If p is the perimeter of a right angle triangle with integral length sides, {a,b,c}, there are exactly three solutions for p = 120.\n",
    "\n",
    "{20,48,52}, {24,45,51}, {30,40,50}\n",
    "\n",
    "For which value of p ≤ 1000, is the number of solutions maximised?\n"
   ]
  },
  {
   "cell_type": "code",
   "execution_count": 1,
   "metadata": {},
   "outputs": [
    {
     "name": "stdout",
     "output_type": "stream",
     "text": [
      "Max Perimeter: 840 Count: 8\n"
     ]
    }
   ],
   "source": [
    "counts=[]\n",
    "maxcount=0\n",
    "maxperim=0\n",
    "for i in range(2000): counts.append(0)\n",
    "for i in range(1,1000):\n",
    "    for j in range(i,1000):\n",
    "        for k in range(j,1000-i-j):\n",
    "            if (i+j+k)<1001:\n",
    "                if i**2+j**2 == k**2: \n",
    "                    perim=i+j+k\n",
    "                    counts[perim]+=1\n",
    "                    #print(i,j,k,\":\",perim,counts[perim])\n",
    "                    if counts[perim]>maxcount:\n",
    "                        maxcount=counts[perim]\n",
    "                        maxperim=perim\n",
    "                    k=1000\n",
    "print(\"Max Perimeter:\",maxperim,\"Count:\",maxcount)\n",
    "               "
   ]
  }
 ],
 "metadata": {
  "kernelspec": {
   "display_name": "saturn (Python 3)",
   "language": "python",
   "name": "python3"
  },
  "language_info": {
   "codemirror_mode": {
    "name": "ipython",
    "version": 3
   },
   "file_extension": ".py",
   "mimetype": "text/x-python",
   "name": "python",
   "nbconvert_exporter": "python",
   "pygments_lexer": "ipython3",
   "version": "3.9.12"
  }
 },
 "nbformat": 4,
 "nbformat_minor": 2
}
