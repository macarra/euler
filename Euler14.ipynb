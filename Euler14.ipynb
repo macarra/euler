{
 "cells": [
  {
   "cell_type": "markdown",
   "metadata": {},
   "source": [
    "The following iterative sequence is defined for the set of positive integers:\n",
    "\n",
    "n → n/2 (n is even)\n",
    "n → 3n + 1 (n is odd)\n",
    "\n",
    "Using the rule above and starting with 13, we generate the following sequence:\n",
    "13 → 40 → 20 → 10 → 5 → 16 → 8 → 4 → 2 → 1\n",
    "\n",
    "It can be seen that this sequence (starting at 13 and finishing at 1) contains 10 terms. Although it has not been proved yet (Collatz Problem), it is thought that all starting numbers finish at 1.\n",
    "\n",
    "Which starting number, under one million, produces the longest chain?\n",
    "\n",
    "NOTE: Once the chain starts the terms are allowed to go above one million.\n"
   ]
  },
  {
   "cell_type": "code",
   "execution_count": 20,
   "metadata": {
    "collapsed": false
   },
   "outputs": [
    {
     "name": "stdout",
     "output_type": "stream",
     "text": [
      "N: 100000 Max: 77031 MaxLength: 351\n",
      "N: 200000 Max: 156159 MaxLength: 383\n",
      "N: 300000 Max: 230631 MaxLength: 443\n",
      "N: 400000 Max: 230631 MaxLength: 443\n",
      "N: 500000 Max: 410011 MaxLength: 449\n",
      "N: 600000 Max: 511935 MaxLength: 470\n",
      "N: 700000 Max: 626331 MaxLength: 509\n",
      "N: 800000 Max: 626331 MaxLength: 509\n",
      "N: 900000 Max: 837799 MaxLength: 525\n",
      "837799 525\n"
     ]
    }
   ],
   "source": [
    "startn=1\n",
    "maxlen=0\n",
    "maxn=1\n",
    "while (startn < 1000000):\n",
    "    length = 1\n",
    "    n=startn\n",
    "    while (n != 1):\n",
    "        if n%2: n=3*n+1\n",
    "        else: n//=2\n",
    "        length+=1\n",
    "        \n",
    "    if length > maxlen:\n",
    "        maxlen=length\n",
    "        maxn=startn\n",
    "        \n",
    "    if (startn%100000 == 0):\n",
    "        print(\"N:\",startn,\"Max:\",maxn,\"MaxLength:\",maxlen)\n",
    "    \n",
    "    startn+=1\n",
    "\n",
    "print(maxn,maxlen)"
   ]
  }
 ],
 "metadata": {
  "kernelspec": {
   "display_name": "Python 3",
   "language": "python",
   "name": "python3"
  },
  "language_info": {
   "codemirror_mode": {
    "name": "ipython",
    "version": 3
   },
   "file_extension": ".py",
   "mimetype": "text/x-python",
   "name": "python",
   "nbconvert_exporter": "python",
   "pygments_lexer": "ipython3",
   "version": "3.4.4"
  }
 },
 "nbformat": 4,
 "nbformat_minor": 0
}
