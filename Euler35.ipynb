{
 "cells": [
  {
   "cell_type": "markdown",
   "metadata": {},
   "source": [
    "\n",
    "\n",
    "The number, 197, is called a circular prime because all rotations of the digits: 197, 971, and 719, are themselves prime.\n",
    "\n",
    "There are thirteen such primes below 100: 2, 3, 5, 7, 11, 13, 17, 31, 37, 71, 73, 79, and 97.\n",
    "\n",
    "How many circular primes are there below one million?\n"
   ]
  },
  {
   "cell_type": "code",
   "execution_count": 66,
   "metadata": {},
   "outputs": [],
   "source": [
    "def isPrime(number):\n",
    "    if number==1: return 0\n",
    "    if number==2: return 1\n",
    "    if number==3: return 1\n",
    "    if number%2==0:  \n",
    "        return 0  \n",
    "    check=3  \n",
    "    maxneeded=number  \n",
    "    while check<maxneeded+1:  \n",
    "        maxneeded=number/check  \n",
    "        if number%check==0:  \n",
    "            return 0\n",
    "        check+=2  \n",
    "    return 1"
   ]
  },
  {
   "cell_type": "code",
   "execution_count": 2,
   "metadata": {},
   "outputs": [
    {
     "data": {
      "text/plain": [
       "0"
      ]
     },
     "execution_count": 2,
     "metadata": {},
     "output_type": "execute_result"
    }
   ],
   "source": [
    "isPrime(70)"
   ]
  },
  {
   "cell_type": "code",
   "execution_count": 21,
   "metadata": {},
   "outputs": [],
   "source": [
    "def rotate(lst,x):\n",
    "    copy = list(lst)\n",
    "    for i in range(len(lst)):\n",
    "        if x<0:\n",
    "            lst[i+x] = copy[i]\n",
    "        else:\n",
    "            lst[i] = copy[i-x]\n",
    "            \n",
    "    return lst"
   ]
  },
  {
   "cell_type": "code",
   "execution_count": 22,
   "metadata": {},
   "outputs": [],
   "source": [
    "def num2list(number):\n",
    "    numstr=str(number)\n",
    "    numshift=[]\n",
    "    for i in range(len(numstr)):\n",
    "        numshift.append(numstr[i])\n",
    "    return numshift"
   ]
  },
  {
   "cell_type": "code",
   "execution_count": 23,
   "metadata": {},
   "outputs": [
    {
     "data": {
      "text/plain": [
       "list"
      ]
     },
     "execution_count": 23,
     "metadata": {},
     "output_type": "execute_result"
    }
   ],
   "source": [
    "numlist=num2list(127)\n",
    "type(numlist)"
   ]
  },
  {
   "cell_type": "code",
   "execution_count": 41,
   "metadata": {},
   "outputs": [
    {
     "data": {
      "text/plain": [
       "127"
      ]
     },
     "execution_count": 41,
     "metadata": {},
     "output_type": "execute_result"
    }
   ],
   "source": [
    "list2num(rotate(numlist,1))\n"
   ]
  },
  {
   "cell_type": "code",
   "execution_count": 39,
   "metadata": {},
   "outputs": [],
   "source": [
    "def list2num(lst):\n",
    "    numstr=\"\"\n",
    "    for x in lst: numstr += x\n",
    "    return int(numstr)"
   ]
  },
  {
   "cell_type": "code",
   "execution_count": 32,
   "metadata": {},
   "outputs": [
    {
     "data": {
      "text/plain": [
       "712"
      ]
     },
     "execution_count": 32,
     "metadata": {},
     "output_type": "execute_result"
    }
   ],
   "source": [
    "list2num(numlist)"
   ]
  },
  {
   "cell_type": "code",
   "execution_count": 68,
   "metadata": {},
   "outputs": [
    {
     "name": "stdout",
     "output_type": "stream",
     "text": [
      "55\n",
      "[2, 3, 5, 7, 11, 13, 17, 31, 37, 71, 73, 79, 97, 113, 131, 197, 199, 311, 337, 373, 719, 733, 919, 971, 991, 1193, 1931, 3119, 3779, 7793, 7937, 9311, 9377, 11939, 19391, 19937, 37199, 39119, 71993, 91193, 93719, 93911, 99371, 193939, 199933, 319993, 331999, 391939, 393919, 919393, 933199, 939193, 939391, 993319, 999331]\n"
     ]
    }
   ],
   "source": [
    "psum=0\n",
    "primes=[]\n",
    "for num in range(1,1000000):\n",
    "    numlist=num2list(num)\n",
    "    checklist=[]\n",
    "    for index in range(len(numlist)):\n",
    "        rotlist = rotate(numlist,1).copy()\n",
    "        checklist.append(list2num(rotlist))\n",
    "    #print(checklist)\n",
    "    test=0\n",
    "    for x in checklist: test+=isPrime(x)\n",
    "    if test==len(checklist): \n",
    "        psum+=1\n",
    "        primes.append(num)\n",
    "    \n",
    "print(psum)\n",
    "print(primes)"
   ]
  }
 ],
 "metadata": {
  "kernelspec": {
   "display_name": "Python 3",
   "language": "python",
   "name": "python3"
  },
  "language_info": {
   "codemirror_mode": {
    "name": "ipython",
    "version": 3
   },
   "file_extension": ".py",
   "mimetype": "text/x-python",
   "name": "python",
   "nbconvert_exporter": "python",
   "pygments_lexer": "ipython3",
   "version": "3.6.4"
  }
 },
 "nbformat": 4,
 "nbformat_minor": 1
}
