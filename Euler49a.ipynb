{
 "cells": [
  {
   "cell_type": "markdown",
   "metadata": {},
   "source": [
    "Problem 49\n",
    "\n",
    "The arithmetic sequence, 1487, 4817, 8147, in which each of the terms increases by 3330, is unusual in two ways: (i) each of the three terms are prime, and, (ii) each of the 4-digit numbers are permutations of one another.\n",
    "\n",
    "There are no arithmetic sequences made up of three 1-, 2-, or 3-digit primes, exhibiting this property, but there is one other 4-digit increasing sequence.\n",
    "\n",
    "What 12-digit number do you form by concatenating the three terms in this sequence?\n"
   ]
  },
  {
   "cell_type": "code",
   "execution_count": 2,
   "metadata": {},
   "outputs": [
    {
     "name": "stdout",
     "output_type": "stream",
     "text": [
      "1061\n",
      "[   0    1    2 ... 1058 1059 1060]\n"
     ]
    }
   ],
   "source": [
    "\n",
    "import math as math\n",
    "import numpy as np\n",
    "\n",
    "def isprime(number):\n",
    "    if number<=1 or number%2==0:\n",
    "        return 0\n",
    "    check=3\n",
    "    maxneeded=number\n",
    "    while check<maxneeded+1:\n",
    "        maxneeded=number/check\n",
    "        if number%check==0:\n",
    "            return 0\n",
    "        check+=2\n",
    "    return 1\n",
    "\n",
    "x=[]\n",
    "for i in range(1000,10000):\n",
    "    if isprime(i):\n",
    "        x.append(i)\n",
    "\n",
    "print(len(x))\n",
    "\n",
    "\n",
    "def numlist(z):\n",
    "    xlist=[]\n",
    "    x1=int(z/1000)\n",
    "    xlist.append(x1)\n",
    "    x2=int((z-x1*1000)/100)\n",
    "    xlist.append(x2)\n",
    "    x3=int((z-x1*1000-x2*100)/10)\n",
    "    xlist.append(x3)\n",
    "    x4=z-x1*1000-x2*100-x3*10\n",
    "\n",
    "    sorted=np.argsort(x)\n",
    "    return sorted\n",
    "\n",
    "z=4529\n",
    "print( numlist(z))"
   ]
  },
  {
   "cell_type": "code",
   "execution_count": null,
   "metadata": {
    "collapsed": true
   },
   "outputs": [],
   "source": []
  }
 ],
 "metadata": {
  "kernelspec": {
   "display_name": "Python 3 (ipykernel)",
   "language": "python",
   "name": "python3"
  },
  "language_info": {
   "codemirror_mode": {
    "name": "ipython",
    "version": 3
   },
   "file_extension": ".py",
   "mimetype": "text/x-python",
   "name": "python",
   "nbconvert_exporter": "python",
   "pygments_lexer": "ipython3",
   "version": "3.10.1"
  }
 },
 "nbformat": 4,
 "nbformat_minor": 1
}
