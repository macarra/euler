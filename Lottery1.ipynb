{
 "cells": [
  {
   "cell_type": "code",
   "execution_count": 1,
   "metadata": {
    "collapsed": true
   },
   "outputs": [],
   "source": [
    "import numpy as np\n",
    "import matplotlib.pyplot as P"
   ]
  },
  {
   "cell_type": "code",
   "execution_count": 2,
   "metadata": {
    "collapsed": false
   },
   "outputs": [
    {
     "data": {
      "text/plain": [
       "[3, 15, 11, 8, 4]"
      ]
     },
     "execution_count": 2,
     "metadata": {},
     "output_type": "execute_result"
    }
   ],
   "source": [
    "def lotto(numballs=5,numrange=25):\n",
    "    result=[]\n",
    "    for ball in range(numballs):\n",
    "        cand = np.random.randint(numrange)+1\n",
    "        while (cand in result): cand = np.random.randint(numrange)+1\n",
    "        result.append(cand)\n",
    "        #result.sort()\n",
    "    return(result)    \n",
    "lotto()"
   ]
  },
  {
   "cell_type": "code",
   "execution_count": 3,
   "metadata": {
    "collapsed": true
   },
   "outputs": [],
   "source": [
    "numdraws=100\n",
    "drawlist=[]\n",
    "for draw in range(numdraws):\n",
    "    drawlist.append(lotto())"
   ]
  },
  {
   "cell_type": "code",
   "execution_count": null,
   "metadata": {
    "collapsed": false
   },
   "outputs": [],
   "source": [
    "numrange=60\n",
    "numballs=6\n",
    "numdraws=100\n",
    "total=numballs*numdraws\n",
    "\n",
    "drawlist=[]\n",
    "for draw in range(numdraws):\n",
    "    drawlist.append(lotto(numballs,numrange))\n",
    "lottolist = np.matrix(drawlist).flatten().tolist()\n",
    "lottomat=np.matrix(drawlist)\n",
    "#P.hist(lottolist,rwidth=0.5);\n",
    "P.scatter(lottolist[0][0:total//2],lottolist[0][total//2:total])\n",
    "P.show()\n"
   ]
  },
  {
   "cell_type": "code",
   "execution_count": null,
   "metadata": {
    "collapsed": true
   },
   "outputs": [],
   "source": []
  },
  {
   "cell_type": "code",
   "execution_count": null,
   "metadata": {
    "collapsed": false
   },
   "outputs": [],
   "source": [
    "import itertools as iter\n",
    "numrange=60\n",
    "numballs=6\n",
    "numdraws=100\n",
    "total=numballs*numdraws\n",
    "combos = [x for x in iter.combinations(lotto(numballs,numrange),2)]\n",
    "print(combos)\n",
    "P.plot(combos,'.');"
   ]
  },
  {
   "cell_type": "code",
   "execution_count": null,
   "metadata": {
    "collapsed": true
   },
   "outputs": [],
   "source": []
  },
  {
   "cell_type": "code",
   "execution_count": null,
   "metadata": {
    "collapsed": true
   },
   "outputs": [],
   "source": []
  }
 ],
 "metadata": {
  "kernelspec": {
   "display_name": "Python 3",
   "language": "python",
   "name": "python3"
  },
  "language_info": {
   "codemirror_mode": {
    "name": "ipython",
    "version": 3
   },
   "file_extension": ".py",
   "mimetype": "text/x-python",
   "name": "python",
   "nbconvert_exporter": "python",
   "pygments_lexer": "ipython3",
   "version": "3.4.4"
  }
 },
 "nbformat": 4,
 "nbformat_minor": 2
}
