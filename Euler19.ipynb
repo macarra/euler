{
 "cells": [
  {
   "cell_type": "code",
   "execution_count": 1,
   "id": "4dceed8f",
   "metadata": {},
   "outputs": [
    {
     "data": {
      "text/plain": [
       "171"
      ]
     },
     "execution_count": 1,
     "metadata": {},
     "output_type": "execute_result"
    }
   ],
   "source": [
    "import datetime\n",
    "\n",
    "start=datetime.datetime(1901,1,1,8)\n",
    "td = datetime.timedelta(days=1)\n",
    "\n",
    "\n",
    "curtime=start\n",
    "dsum=0\n",
    "while curtime.year<2001:\n",
    "    if curtime.weekday()==6 and curtime.day==1:\n",
    "        #print(curtime)\n",
    "        dsum+=1\n",
    "    curtime+=td\n",
    "dsum"
   ]
  },
  {
   "cell_type": "code",
   "execution_count": 3,
   "id": "131f4218",
   "metadata": {},
   "outputs": [
    {
     "name": "stdout",
     "output_type": "stream",
     "text": [
      "On branch master\r\n",
      "Your branch is up to date with 'origin/master'.\r\n",
      "\r\n",
      "Changes not staged for commit:\r\n",
      "  (use \"git add <file>...\" to update what will be committed)\r\n",
      "  (use \"git restore <file>...\" to discard changes in working directory)\r\n",
      "\t\u001b[31mmodified:   Euler18.ipynb\u001b[m\r\n",
      "\r\n",
      "Untracked files:\r\n",
      "  (use \"git add <file>...\" to include in what will be committed)\r\n",
      "\t\u001b[31mEuler19.ipynb\u001b[m\r\n",
      "\t\u001b[31mEuler67\u001b[m\r\n",
      "\r\n",
      "no changes added to commit (use \"git add\" and/or \"git commit -a\")\r\n"
     ]
    }
   ],
   "source": [
    "!git status"
   ]
  }
 ],
 "metadata": {
  "kernelspec": {
   "display_name": "saturn (Python 3)",
   "language": "python",
   "name": "python3"
  },
  "language_info": {
   "codemirror_mode": {
    "name": "ipython",
    "version": 3
   },
   "file_extension": ".py",
   "mimetype": "text/x-python",
   "name": "python",
   "nbconvert_exporter": "python",
   "pygments_lexer": "ipython3",
   "version": "3.9.12"
  }
 },
 "nbformat": 4,
 "nbformat_minor": 5
}
