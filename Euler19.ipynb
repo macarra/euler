{
 "cells": [
  {
   "cell_type": "code",
   "execution_count": 1,
   "id": "9f0dc36a",
   "metadata": {},
   "outputs": [
    {
     "data": {
      "text/plain": [
       "171"
      ]
     },
     "execution_count": 1,
     "metadata": {},
     "output_type": "execute_result"
    }
   ],
   "source": [
    "import datetime\n",
    "\n",
    "start=datetime.datetime(1901,1,1,8)\n",
    "td = datetime.timedelta(days=1)\n",
    "\n",
    "\n",
    "curtime=start\n",
    "dsum=0\n",
    "while curtime.year<2001:\n",
    "    if curtime.weekday()==6 and curtime.day==1:\n",
    "        #print(curtime)\n",
    "        dsum+=1\n",
    "    curtime+=td\n",
    "dsum"
   ]
  },
  {
   "cell_type": "code",
   "execution_count": 4,
   "id": "20b87c41",
   "metadata": {},
   "outputs": [
    {
     "name": "stdout",
     "output_type": "stream",
     "text": [
      "On branch master\r\n",
      "Your branch is up to date with 'origin/master'.\r\n",
      "\r\n",
      "Changes not staged for commit:\r\n",
      "  (use \"git add <file>...\" to update what will be committed)\r\n",
      "  (use \"git restore <file>...\" to discard changes in working directory)\r\n",
      "\t\u001b[31mmodified:   Euler18.ipynb\u001b[m\r\n",
      "\r\n",
      "Untracked files:\r\n",
      "  (use \"git add <file>...\" to include in what will be committed)\r\n",
      "\t\u001b[31mEuler19.ipynb\u001b[m\r\n",
      "\t\u001b[31mEuler67.ipynb\u001b[m\r\n",
      "\r\n",
      "no changes added to commit (use \"git add\" and/or \"git commit -a\")\r\n"
     ]
    }
   ],
   "source": [
    "!git status"
   ]
  },
  {
   "cell_type": "code",
   "execution_count": 5,
   "id": "368e0f46",
   "metadata": {},
   "outputs": [],
   "source": [
    "!git add -A"
   ]
  },
  {
   "cell_type": "code",
   "execution_count": 7,
   "id": "bb36f7d6",
   "metadata": {},
   "outputs": [
    {
     "name": "stdout",
     "output_type": "stream",
     "text": [
      "[master 54543a2] Added Euler19 notebook\r\n",
      " 3 files changed, 203 insertions(+), 11 deletions(-)\r\n",
      " create mode 100644 Euler19.ipynb\r\n",
      " create mode 100644 Euler67.ipynb\r\n"
     ]
    }
   ],
   "source": [
    "!git commit -m \"Added Euler19 notebook\""
   ]
  },
  {
   "cell_type": "code",
   "execution_count": 8,
   "id": "072f49bf",
   "metadata": {},
   "outputs": [
    {
     "name": "stdout",
     "output_type": "stream",
     "text": [
      "Enumerating objects: 6, done.\n",
      "Counting objects: 100% (6/6), done.\n",
      "Delta compression using up to 8 threads\n",
      "Compressing objects: 100% (4/4), done.\n",
      "Writing objects: 100% (4/4), 1.22 KiB | 1.22 MiB/s, done.\n",
      "Total 4 (delta 2), reused 0 (delta 0), pack-reused 0\n",
      "remote: Resolving deltas: 100% (2/2), completed with 2 local objects.\u001b[K\n",
      "To github.com:macarra/euler.git\n",
      "   7769548..54543a2  master -> master\n"
     ]
    }
   ],
   "source": [
    "!git push"
   ]
  }
 ],
 "metadata": {
  "kernelspec": {
   "display_name": "saturn (Python 3)",
   "language": "python",
   "name": "python3"
  },
  "language_info": {
   "codemirror_mode": {
    "name": "ipython",
    "version": 3
   },
   "file_extension": ".py",
   "mimetype": "text/x-python",
   "name": "python",
   "nbconvert_exporter": "python",
   "pygments_lexer": "ipython3",
   "version": "3.9.12"
  }
 },
 "nbformat": 4,
 "nbformat_minor": 5
}
