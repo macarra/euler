{
 "cells": [
  {
   "cell_type": "code",
   "execution_count": 6,
   "id": "9f0dc36a",
   "metadata": {},
   "outputs": [
    {
     "data": {
      "text/plain": [
       "171"
      ]
     },
     "execution_count": 6,
     "metadata": {},
     "output_type": "execute_result"
    }
   ],
   "source": [
    "import datetime\n",
    "\n",
    "start=datetime.datetime(1901,1,1,8)\n",
    "td = datetime.timedelta(days=1)\n",
    "\n",
    "\n",
    "curtime=start\n",
    "dsum=0\n",
    "while curtime.year<2001:\n",
    "    if curtime.weekday()==6 and curtime.day==1:\n",
    "        #print(curtime)\n",
    "        dsum+=1\n",
    "    curtime+=td\n",
    "dsum"
   ]
  }
 ],
 "metadata": {
  "kernelspec": {
   "display_name": "saturn (Python 3)",
   "language": "python",
   "name": "python3"
  },
  "language_info": {
   "codemirror_mode": {
    "name": "ipython",
    "version": 3
   },
   "file_extension": ".py",
   "mimetype": "text/x-python",
   "name": "python",
   "nbconvert_exporter": "python",
   "pygments_lexer": "ipython3",
   "version": "3.9.12"
  }
 },
 "nbformat": 4,
 "nbformat_minor": 5
}
