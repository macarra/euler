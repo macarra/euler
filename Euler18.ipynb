{
 "cells": [
  {
   "cell_type": "code",
   "execution_count": 4,
   "id": "02a28f3b",
   "metadata": {},
   "outputs": [
    {
     "data": {
      "text/plain": [
       "44"
      ]
     },
     "execution_count": 4,
     "metadata": {},
     "output_type": "execute_result"
    }
   ],
   "source": [
    "import numpy as np\n",
    "np.random.randint(0,100)\n"
   ]
  },
  {
   "cell_type": "code",
   "execution_count": 9,
   "id": "937a6c50",
   "metadata": {},
   "outputs": [
    {
     "data": {
      "text/plain": [
       "[[72],\n",
       " [55, 11],\n",
       " [13, 29, 68],\n",
       " [79, 25, 32, 82],\n",
       " [26, 49, 79, 24, 31],\n",
       " [25, 76, 43, 81, 48, 6]]"
      ]
     },
     "execution_count": 9,
     "metadata": {},
     "output_type": "execute_result"
    }
   ],
   "source": [
    "triangle =[]\n",
    "for rownum in range(1,7):\n",
    "    row = [ np.random.randint(0,100) for x in range(rownum)]\n",
    "    triangle.append(row)\n",
    "    \n",
    "triangle"
   ]
  },
  {
   "cell_type": "code",
   "execution_count": 10,
   "id": "3a066f95",
   "metadata": {},
   "outputs": [
    {
     "data": {
      "text/plain": [
       "437"
      ]
     },
     "execution_count": 10,
     "metadata": {},
     "output_type": "execute_result"
    }
   ],
   "source": [
    "tsum = 0\n",
    "for row in triangle:\n",
    "   tsum+=max(row)\n",
    "tsum"
   ]
  }
 ],
 "metadata": {
  "kernelspec": {
   "display_name": "saturn (Python 3)",
   "language": "python",
   "name": "python3"
  },
  "language_info": {
   "codemirror_mode": {
    "name": "ipython",
    "version": 3
   },
   "file_extension": ".py",
   "mimetype": "text/x-python",
   "name": "python",
   "nbconvert_exporter": "python",
   "pygments_lexer": "ipython3",
   "version": "3.9.12"
  }
 },
 "nbformat": 4,
 "nbformat_minor": 5
}
