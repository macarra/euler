{
 "cells": [
  {
   "cell_type": "raw",
   "id": "884f478d",
   "metadata": {},
   "source": [
    "Problem 18\n",
    "\n",
    "By starting at the top of the triangle below and moving to adjacent numbers on the row below, the maximum total from top to bottom is 23.\n",
    "\n",
    "3\n",
    "7 4\n",
    "2 4 6\n",
    "8 5 9 3\n",
    "\n",
    "That is, 3 + 7 + 4 + 9 = 23.\n",
    "\n",
    "Find the maximum total from top to bottom of the triangle below:\n",
    "\n",
    "75\n",
    "95 64\n",
    "17 47 82\n",
    "18 35 87 10\n",
    "20 04 82 47 65\n",
    "19 01 23 75 03 34\n",
    "88 02 77 73 07 63 67\n",
    "99 65 04 28 06 16 70 92\n",
    "41 41 26 56 83 40 80 70 33\n",
    "41 48 72 33 47 32 37 16 94 29\n",
    "53 71 44 65 25 43 91 52 97 51 14\n",
    "70 11 33 28 77 73 17 78 39 68 17 57\n",
    "91 71 52 38 17 14 91 43 58 50 27 29 48\n",
    "63 66 04 68 89 53 67 30 73 16 69 87 40 31\n",
    "04 62 98 27 23 09 70 98 73 93 38 53 60 04 23\n",
    "\n",
    "NOTE: As there are only 16384 routes, it is possible to solve this problem by trying every route. However, Problem 67, is the same challenge with a triangle containing one-hundred rows; it cannot be solved by brute force, and requires a clever method! ;o)\n"
   ]
  },
  {
   "cell_type": "code",
   "execution_count": 1,
   "id": "1e65ecff",
   "metadata": {},
   "outputs": [
    {
     "name": "stdout",
     "output_type": "stream",
     "text": [
      "15\n",
      "['75', '95 64', '17 47 82', '18 35 87 10', '20 04 82 47 65', '19 01 23 75 03 34', '88 02 77 73 07 63 67', '99 65 04 28 06 16 70 92', '41 41 26 56 83 40 80 70 33', '41 48 72 33 47 32 37 16 94 29', '53 71 44 65 25 43 91 52 97 51 14', '70 11 33 28 77 73 17 78 39 68 17 57', '91 71 52 38 17 14 91 43 58 50 27 29 48', '63 66 04 68 89 53 67 30 73 16 69 87 40 31', '04 62 98 27 23 09 70 98 73 93 38 53 60 04 23']\n"
     ]
    }
   ],
   "source": [
    "trianglestring = \"\"\"75\n",
    "95 64\n",
    "17 47 82\n",
    "18 35 87 10\n",
    "20 04 82 47 65\n",
    "19 01 23 75 03 34\n",
    "88 02 77 73 07 63 67\n",
    "99 65 04 28 06 16 70 92\n",
    "41 41 26 56 83 40 80 70 33\n",
    "41 48 72 33 47 32 37 16 94 29\n",
    "53 71 44 65 25 43 91 52 97 51 14\n",
    "70 11 33 28 77 73 17 78 39 68 17 57\n",
    "91 71 52 38 17 14 91 43 58 50 27 29 48\n",
    "63 66 04 68 89 53 67 30 73 16 69 87 40 31\n",
    "04 62 98 27 23 09 70 98 73 93 38 53 60 04 23\"\"\"\n",
    "trilines = trianglestring.split('\\n')\n",
    "print(len(trilines))\n",
    "print(trilines)"
   ]
  },
  {
   "cell_type": "code",
   "execution_count": 2,
   "id": "02a28f3b",
   "metadata": {},
   "outputs": [
    {
     "name": "stdout",
     "output_type": "stream",
     "text": [
      "[[75], [95, 64], [17, 47, 82], [18, 35, 87, 10], [20, 4, 82, 47, 65], [19, 1, 23, 75, 3, 34], [88, 2, 77, 73, 7, 63, 67], [99, 65, 4, 28, 6, 16, 70, 92], [41, 41, 26, 56, 83, 40, 80, 70, 33], [41, 48, 72, 33, 47, 32, 37, 16, 94, 29], [53, 71, 44, 65, 25, 43, 91, 52, 97, 51, 14], [70, 11, 33, 28, 77, 73, 17, 78, 39, 68, 17, 57], [91, 71, 52, 38, 17, 14, 91, 43, 58, 50, 27, 29, 48], [63, 66, 4, 68, 89, 53, 67, 30, 73, 16, 69, 87, 40, 31], [4, 62, 98, 27, 23, 9, 70, 98, 73, 93, 38, 53, 60, 4, 23]]\n"
     ]
    }
   ],
   "source": [
    "triangle = []\n",
    "for line in trilines:\n",
    "    numbers = line.split(\" \")\n",
    "    numbers = [x for x in map(int,numbers)]\n",
    "    #numbers = [int(x) for x in numbers]\n",
    "    triangle.append(numbers)\n",
    "print(triangle)"
   ]
  },
  {
   "cell_type": "raw",
   "id": "b276db39",
   "metadata": {},
   "source": [
    "### This is for testing only\n",
    "import numpy as np\n",
    "np.random.randint(0,100)\n",
    "triangle =[]\n",
    "for rownum in range(1,7):\n",
    "    row = [ np.random.randint(0,100) for x in range(rownum)]\n",
    "    triangle.append(row)\n",
    "    \n",
    "triangle"
   ]
  },
  {
   "cell_type": "code",
   "execution_count": 3,
   "id": "3a066f95",
   "metadata": {},
   "outputs": [
    {
     "name": "stdout",
     "output_type": "stream",
     "text": [
      "[75] 75 75\n",
      "[95, 64] 95 170\n",
      "[17, 47, 82] 82 252\n",
      "[18, 35, 87, 10] 87 339\n",
      "[20, 4, 82, 47, 65] 82 421\n",
      "[19, 1, 23, 75, 3, 34] 75 496\n",
      "[88, 2, 77, 73, 7, 63, 67] 88 584\n",
      "[99, 65, 4, 28, 6, 16, 70, 92] 99 683\n",
      "[41, 41, 26, 56, 83, 40, 80, 70, 33] 83 766\n",
      "[41, 48, 72, 33, 47, 32, 37, 16, 94, 29] 94 860\n",
      "[53, 71, 44, 65, 25, 43, 91, 52, 97, 51, 14] 97 957\n",
      "[70, 11, 33, 28, 77, 73, 17, 78, 39, 68, 17, 57] 78 1035\n",
      "[91, 71, 52, 38, 17, 14, 91, 43, 58, 50, 27, 29, 48] 91 1126\n",
      "[63, 66, 4, 68, 89, 53, 67, 30, 73, 16, 69, 87, 40, 31] 89 1215\n",
      "[4, 62, 98, 27, 23, 9, 70, 98, 73, 93, 38, 53, 60, 4, 23] 98 1313\n"
     ]
    },
    {
     "data": {
      "text/plain": [
       "1313"
      ]
     },
     "execution_count": 3,
     "metadata": {},
     "output_type": "execute_result"
    }
   ],
   "source": [
    "tsum = 0\n",
    "for row in triangle:\n",
    "   tsum+=max(row)\n",
    "   print(row,max(row),tsum)\n",
    "tsum"
   ]
  },
  {
   "cell_type": "code",
   "execution_count": null,
   "id": "7552a2f7",
   "metadata": {},
   "outputs": [],
   "source": []
  }
 ],
 "metadata": {
  "kernelspec": {
   "display_name": "Python 3 (ipykernel)",
   "language": "python",
   "name": "python3"
  },
  "language_info": {
   "codemirror_mode": {
    "name": "ipython",
    "version": 3
   },
   "file_extension": ".py",
   "mimetype": "text/x-python",
   "name": "python",
   "nbconvert_exporter": "python",
   "pygments_lexer": "ipython3",
   "version": "3.10.4"
  }
 },
 "nbformat": 4,
 "nbformat_minor": 5
}
