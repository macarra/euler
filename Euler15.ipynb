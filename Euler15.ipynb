{
 "cells": [
  {
   "cell_type": "markdown",
   "metadata": {},
   "source": [
    "\n",
    "\n",
    "Starting in the top left corner of a 2×2 grid, \n",
    "and only being able to move to the right and down, \n",
    "there are exactly 6 routes to the bottom right corner.\n",
    "\n",
    "How many such routes are there through a 20×20 grid?\n"
   ]
  },
  {
   "cell_type": "code",
   "execution_count": 9,
   "metadata": {
    "collapsed": false
   },
   "outputs": [
    {
     "name": "stdout",
     "output_type": "stream",
     "text": [
      "137846528820\n"
     ]
    }
   ],
   "source": [
    "n=21\n",
    "alist=[]\n",
    "for x in range(n):\n",
    "    alist.append(1)\n",
    "#print(alist)\n",
    "for z in range(n-1):\n",
    "    blist=[]\n",
    "    blist.append(1)\n",
    "    for x in range(n-1):\n",
    "        #print(x)\n",
    "        blist.append(blist[x]+alist[x+1])\n",
    "        #print(blist)\n",
    "    #print(blist)\n",
    "    alist=blist.copy()\n",
    "print(alist[-1])"
   ]
  }
 ],
 "metadata": {
  "kernelspec": {
   "display_name": "Python 3",
   "language": "python",
   "name": "python3"
  },
  "language_info": {
   "codemirror_mode": {
    "name": "ipython",
    "version": 3
   },
   "file_extension": ".py",
   "mimetype": "text/x-python",
   "name": "python",
   "nbconvert_exporter": "python",
   "pygments_lexer": "ipython3",
   "version": "3.4.4"
  }
 },
 "nbformat": 4,
 "nbformat_minor": 0
}
