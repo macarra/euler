{
 "cells": [
  {
   "cell_type": "code",
   "execution_count": 20,
   "metadata": {
    "collapsed": false
   },
   "outputs": [
    {
     "name": "stdout",
     "output_type": "stream",
     "text": [
      "8581146\n"
     ]
    }
   ],
   "source": [
    "num=145\n",
    "asum=0 \n",
    "for num in range(1,10000000):\n",
    "    #print(\"trying num:\",num)\n",
    "    tries = 0\n",
    "    trynum=num\n",
    "    while num != 1 and num !=89 and tries<1000:\n",
    "        nsum=0\n",
    "        for digit in str(num):\n",
    "            #print(digit)\n",
    "            nsum+=(int(digit)**2)\n",
    "            #print(nsum)\n",
    "        tries+=1\n",
    "        num=nsum\n",
    "    #print(num)\n",
    "    if tries >=100:print(\"too many tries for\",trynum)\n",
    "    #print(\"Ends at:\",num,)\n",
    "    if (num==89): asum+=1\n",
    "print(asum)"
   ]
  }
 ],
 "metadata": {
  "kernelspec": {
   "display_name": "Python 3",
   "language": "python",
   "name": "python3"
  },
  "language_info": {
   "codemirror_mode": {
    "name": "ipython",
    "version": 3
   },
   "file_extension": ".py",
   "mimetype": "text/x-python",
   "name": "python",
   "nbconvert_exporter": "python",
   "pygments_lexer": "ipython3",
   "version": "3.4.4"
  }
 },
 "nbformat": 4,
 "nbformat_minor": 0
}
