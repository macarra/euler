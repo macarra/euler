{
 "cells": [
  {
   "cell_type": "code",
   "execution_count": 1,
   "metadata": {
    "collapsed": false,
    "execution": {
     "iopub.execute_input": "2022-01-01T05:24:07.155335Z",
     "iopub.status.busy": "2022-01-01T05:24:07.155335Z",
     "iopub.status.idle": "2022-01-01T05:24:07.171749Z",
     "shell.execute_reply": "2022-01-01T05:24:07.170691Z"
    }
   },
   "outputs": [
    {
     "name": "stdout",
     "output_type": "stream",
     "text": [
      "\n",
      "4613732\n"
     ]
    }
   ],
   "source": [
    "val1=1\n",
    "val2=2\n",
    "newval = val1+val2\n",
    "tmpsum=2\n",
    "while (newval<4000000):\n",
    "    #print newval\n",
    "    if (newval%2 == 0):\n",
    "        #print('***')\n",
    "        tmpsum+=newval\n",
    "    val1=val2\n",
    "    val2=newval\n",
    "    newval=val1+val2\n",
    "print()\n",
    "print(tmpsum)\n"
   ]
  }
 ],
 "metadata": {
  "kernelspec": {
   "display_name": "Python 3",
   "language": "python",
   "name": "python3"
  },
  "language_info": {
   "codemirror_mode": {
    "name": "ipython",
    "version": 3
   },
   "file_extension": ".py",
   "mimetype": "text/x-python",
   "name": "python",
   "nbconvert_exporter": "python",
   "pygments_lexer": "ipython3",
   "version": "3.10.1"
  }
 },
 "nbformat": 4,
 "nbformat_minor": 0
}
