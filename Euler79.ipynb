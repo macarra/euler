{
 "cells": [
  {
   "cell_type": "markdown",
   "id": "03adcf8a",
   "metadata": {},
   "source": [
    "Euler 79\n",
    "\n",
    "A common security method used for online banking is to ask the user for three random characters from a passcode. For example, if the passcode was 531278, they may ask for the 2nd, 3rd, and 5th characters; the expected reply would be: 317.\n",
    "\n",
    "The text file, keylog.txt, contains fifty successful login attempts.\n",
    "\n",
    "Given that the three characters are always asked for in order, analyse the file so as to determine the shortest possible secret passcode of unknown length.\n"
   ]
  },
  {
   "cell_type": "code",
   "execution_count": 2,
   "id": "51ca426b",
   "metadata": {},
   "outputs": [],
   "source": [
    "from utils import *"
   ]
  },
  {
   "cell_type": "code",
   "execution_count": 8,
   "id": "42887559",
   "metadata": {},
   "outputs": [
    {
     "name": "stdout",
     "output_type": "stream",
     "text": [
      "319  680  180  690  129  620  \n",
      "762  689  762  318  368  710  \n",
      "720  710  629  168  160  689  \n",
      "716  731  736  729  316  729  \n",
      "729  710  769  290  719  680  \n",
      "318  389  162  289  162  718  \n",
      "729  319  790  680  890  362  \n",
      "319  760  316  729  380  319  \n",
      "728  716  50\n"
     ]
    }
   ],
   "source": [
    "keyfile = 'p079_keylog.txt'\n",
    "fin = open(keyfile)\n",
    "keys = fin.readlines()\n",
    "keys = [x.strip() for x in keys]\n",
    "fin.close()\n",
    "printList(keys)"
   ]
  },
  {
   "cell_type": "code",
   "execution_count": 10,
   "id": "d149c76a",
   "metadata": {},
   "outputs": [
    {
     "data": {
      "text/plain": [
       "33"
      ]
     },
     "execution_count": 10,
     "metadata": {},
     "output_type": "execute_result"
    }
   ],
   "source": [
    "keys=getUniqueFromList(keys)\n",
    "len(keys)"
   ]
  },
  {
   "cell_type": "code",
   "execution_count": 19,
   "id": "c10aec83",
   "metadata": {},
   "outputs": [
    {
     "data": {
      "text/plain": [
       "['6', '0', '1', '8', '9', '3', '7', '2']"
      ]
     },
     "execution_count": 19,
     "metadata": {},
     "output_type": "execute_result"
    }
   ],
   "source": [
    "keychars = []\n",
    "for  key in keys:\n",
    "    for char in key:\n",
    "        keychars.extend(char)\n",
    "keychars= list(set(keychars))\n",
    "keychars"
   ]
  },
  {
   "cell_type": "code",
   "execution_count": 96,
   "id": "bc86b860",
   "metadata": {},
   "outputs": [],
   "source": [
    "from itertools import combinations\n",
    "from itertools import permutations"
   ]
  },
  {
   "cell_type": "code",
   "execution_count": 97,
   "id": "6e416247",
   "metadata": {},
   "outputs": [
    {
     "data": {
      "text/plain": [
       "[[6, 0, 1, 8, 9],\n",
       " [6, 0, 1, 8, 3],\n",
       " [6, 0, 1, 8, 7],\n",
       " [6, 0, 1, 8, 2],\n",
       " [6, 0, 1, 9, 3],\n",
       " [6, 0, 1, 9, 7],\n",
       " [6, 0, 1, 9, 2],\n",
       " [6, 0, 1, 3, 7]]"
      ]
     },
     "execution_count": 97,
     "metadata": {},
     "output_type": "execute_result"
    }
   ],
   "source": [
    "combos = [ [int(x) for x in list(_)] for _ in combinations(keychars,5)]\n",
    "combos[0:8]"
   ]
  },
  {
   "cell_type": "code",
   "execution_count": 98,
   "id": "ab2c2be6",
   "metadata": {},
   "outputs": [
    {
     "data": {
      "text/plain": [
       "True"
      ]
     },
     "execution_count": 98,
     "metadata": {},
     "output_type": "execute_result"
    }
   ],
   "source": [
    "def checkCombo(key,combo):\n",
    "    keynums = [int(x) for x in key]\n",
    "    indices=[]\n",
    "    for keynum in keynums:\n",
    "        try:\n",
    "            indices.append(combo.index(keynum))\n",
    "        except:\n",
    "            indices.append(None)\n",
    "            return False\n",
    "    if indices[1] > indices[0] and indices[2] > indices[1]:\n",
    "        return True\n",
    "    return False\n",
    "checkCombo('619',combos[0])"
   ]
  },
  {
   "cell_type": "code",
   "execution_count": 107,
   "id": "596bfe64",
   "metadata": {},
   "outputs": [
    {
     "name": "stdout",
     "output_type": "stream",
     "text": [
      "73162890\n"
     ]
    }
   ],
   "source": [
    "combolen=8\n",
    "combos = [ [int(x) for x in list(_)] for _ in permutations(keychars,combolen)]\n",
    "for combo in combos:\n",
    "    ok=True\n",
    "    for key in keys:\n",
    "        check = checkCombo(key,combo)\n",
    "        if not check:\n",
    "            ok=False\n",
    "        #if check:\n",
    "        #    print(\"*\", combo, key, check)\n",
    "        #else:\n",
    "        #    print(combo, key,check)\n",
    "    if ok:\n",
    "        print(''.join([str(x) for x in combo]))\n"
   ]
  },
  {
   "cell_type": "code",
   "execution_count": null,
   "id": "3cfb832b",
   "metadata": {},
   "outputs": [],
   "source": []
  }
 ],
 "metadata": {
  "kernelspec": {
   "display_name": "Python 3 (ipykernel)",
   "language": "python",
   "name": "python3"
  },
  "language_info": {
   "codemirror_mode": {
    "name": "ipython",
    "version": 3
   },
   "file_extension": ".py",
   "mimetype": "text/x-python",
   "name": "python",
   "nbconvert_exporter": "python",
   "pygments_lexer": "ipython3",
   "version": "3.10.5"
  }
 },
 "nbformat": 4,
 "nbformat_minor": 5
}
