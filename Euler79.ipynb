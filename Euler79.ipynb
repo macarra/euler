{
 "cells": [
  {
   "cell_type": "markdown",
   "id": "03adcf8a",
   "metadata": {},
   "source": [
    "Euler 79\n",
    "\n",
    "A common security method used for online banking is to ask the user for three random characters from a passcode. For example, if the passcode was 531278, they may ask for the 2nd, 3rd, and 5th characters; the expected reply would be: 317.\n",
    "\n",
    "The text file, keylog.txt, contains fifty successful login attempts.\n",
    "\n",
    "Given that the three characters are always asked for in order, analyse the file so as to determine the shortest possible secret passcode of unknown length.\n"
   ]
  },
  {
   "cell_type": "code",
   "execution_count": 14,
   "id": "51ca426b",
   "metadata": {},
   "outputs": [],
   "source": [
    "import utils"
   ]
  },
  {
   "cell_type": "code",
   "execution_count": 15,
   "id": "42887559",
   "metadata": {},
   "outputs": [
    {
     "name": "stdout",
     "output_type": "stream",
     "text": [
      "319  680  180  690  129  620  \n",
      "762  689  762  318  368  710  \n",
      "720  710  629  168  160  689  \n",
      "716  731  736  729  316  729  \n",
      "729  710  769  290  719  680  \n",
      "318  389  162  289  162  718  \n",
      "729  319  790  680  890  362  \n",
      "319  760  316  729  380  319  \n",
      "728  716  "
     ]
    }
   ],
   "source": [
    "keyfile = 'p079_keylog.txt'\n",
    "fin = open(keyfile)\n",
    "keys = fin.readlines()\n",
    "keys = [x.strip() for x in keys]\n",
    "fin.close()\n",
    "utils.printList(keys)"
   ]
  },
  {
   "cell_type": "code",
   "execution_count": null,
   "id": "d149c76a",
   "metadata": {},
   "outputs": [],
   "source": []
  }
 ],
 "metadata": {
  "kernelspec": {
   "display_name": "Python 3 (ipykernel)",
   "language": "python",
   "name": "python3"
  },
  "language_info": {
   "codemirror_mode": {
    "name": "ipython",
    "version": 3
   },
   "file_extension": ".py",
   "mimetype": "text/x-python",
   "name": "python",
   "nbconvert_exporter": "python",
   "pygments_lexer": "ipython3",
   "version": "3.10.5"
  }
 },
 "nbformat": 4,
 "nbformat_minor": 5
}
