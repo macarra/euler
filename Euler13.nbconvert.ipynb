{
 "cells": [
  {
   "cell_type": "code",
   "execution_count": 1,
   "metadata": {
    "collapsed": false,
    "execution": {
     "iopub.execute_input": "2022-01-01T05:23:42.179100Z",
     "iopub.status.busy": "2022-01-01T05:23:42.178107Z",
     "iopub.status.idle": "2022-01-01T05:23:42.188377Z",
     "shell.execute_reply": "2022-01-01T05:23:42.187303Z"
    }
   },
   "outputs": [
    {
     "name": "stdout",
     "output_type": "stream",
     "text": [
      "5537376230\n"
     ]
    }
   ],
   "source": [
    "infile = 'p013_numbers.txt'\n",
    "f = open(infile,\"r\")\n",
    "lines = f.readlines()\n",
    "sum=0\n",
    "for line in lines:\n",
    "    sum+=int(line)\n",
    "\n",
    "print(str(sum)[0:10])"
   ]
  }
 ],
 "metadata": {
  "kernelspec": {
   "display_name": "Python 3",
   "language": "python",
   "name": "python3"
  },
  "language_info": {
   "codemirror_mode": {
    "name": "ipython",
    "version": 3
   },
   "file_extension": ".py",
   "mimetype": "text/x-python",
   "name": "python",
   "nbconvert_exporter": "python",
   "pygments_lexer": "ipython3",
   "version": "3.10.1"
  }
 },
 "nbformat": 4,
 "nbformat_minor": 0
}
