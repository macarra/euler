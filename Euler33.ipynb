{
 "cells": [
  {
   "cell_type": "code",
   "execution_count": 32,
   "id": "179f6339",
   "metadata": {},
   "outputs": [
    {
     "name": "stdout",
     "output_type": "stream",
     "text": [
      "100\n"
     ]
    }
   ],
   "source": [
    "asum=0\n",
    "nsum=[]\n",
    "dsum=[]\n",
    "nmult=1\n",
    "dmult=1\n",
    "for n in range(11,100):\n",
    "    ns=[n//10,n%10]\n",
    "    if not ns[0]==ns[1]:\n",
    "        for d in range(n+1,100):\n",
    "            ds = [d//10,d%10]\n",
    "            if not ((ds[0] ==  ds[1]) or (ds[1]==0)):\n",
    "                if not ns==ds:\n",
    "                    if (ns[0] in ds):\n",
    "                        ds.remove(ns[0])\n",
    "                        #print(n,d,ns[1]/ds[0],n/d,asum)\n",
    "                        if n/d == ns[1]/ds[0]:\n",
    "                            asum+=1\n",
    "                            nsum.append(n)\n",
    "                    if (ns[1] in ds):\n",
    "                        ds.remove(ns[1])\n",
    "                        if not ds:\n",
    "                            ds=[ns[1]]\n",
    "                        #print(n,d,ns[0]/ds[0],n/d,asum)\n",
    "                        if n/d == ns[0]/ds[0]:\n",
    "                            asum+=1\n",
    "                            nsum.append(n)\n",
    "                            nmult*=ns[0]\n",
    "                            dsum.append(d)\n",
    "                            dmult*=ds[0]\n",
    "                        \n",
    "#print(asum)\n",
    "#print(nsum)\n",
    "#print(dsum)\n",
    "#print(nmult)\n",
    "#print(dmult)\n",
    "answer = dmult//nmult\n",
    "print(answer)"
   ]
  }
 ],
 "metadata": {
  "kernelspec": {
   "display_name": "saturn (Python 3)",
   "language": "python",
   "name": "python3"
  },
  "language_info": {
   "codemirror_mode": {
    "name": "ipython",
    "version": 3
   },
   "file_extension": ".py",
   "mimetype": "text/x-python",
   "name": "python",
   "nbconvert_exporter": "python",
   "pygments_lexer": "ipython3",
   "version": "3.9.12"
  }
 },
 "nbformat": 4,
 "nbformat_minor": 5
}
