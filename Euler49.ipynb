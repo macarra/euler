{
 "cells": [
  {
   "cell_type": "markdown",
   "metadata": {},
   "source": [
    "\n",
    "\n",
    "The arithmetic sequence, 1487, 4817, 8147, in which each of the terms increases by 3330, is unusual in two ways: (i) each of the three terms are prime, and, (ii) each of the 4-digit numbers are permutations of one another.\n",
    "\n",
    "There are no arithmetic sequences made up of three 1-, 2-, or 3-digit primes, exhibiting this property, but there is one other 4-digit increasing sequence.\n",
    "\n",
    "What 12-digit number do you form by concatenating the three terms in this sequence?\n"
   ]
  },
  {
   "cell_type": "code",
   "execution_count": 16,
   "metadata": {},
   "outputs": [
    {
     "name": "stdout",
     "output_type": "stream",
     "text": [
      "1061\n",
      "[4, 5, 2, 9]\n"
     ]
    }
   ],
   "source": [
    "import math as math\n",
    "import numpy as np\n",
    "import itertools as iter\n",
    "\n",
    "def isprime(number):  \n",
    "    if number<=1 or number%2==0:  \n",
    "        return 0  \n",
    "    check=3  \n",
    "    maxneeded=number  \n",
    "    while check<maxneeded+1:  \n",
    "        maxneeded=number/check  \n",
    "        if number%check==0:  \n",
    "            return 0  \n",
    "        check+=2  \n",
    "    return 1  \n",
    "\n",
    "x=[]\n",
    "for i in range(1000,10000):\n",
    "    if isprime(i):\n",
    "        x.append(i)\n",
    "\n",
    "print(len(x))\n",
    "\n",
    "\n",
    "def numlist(z):\n",
    "    xlist=[]\n",
    "    xlist.append(int(z/1000))\n",
    "    xlist.append(int(z/100%10))\n",
    "    xlist.append(int(z/10%10))\n",
    "    xlist.append(z%10)\n",
    "    \n",
    "    sorted=np.argsort(xlist)\n",
    "    return(xlist)\n",
    "\n",
    "z=4529\n",
    "print(numlist(z))\n"
   ]
  }
 ],
 "metadata": {
  "kernelspec": {
   "display_name": "Python 3",
   "language": "python",
   "name": "python3"
  },
  "language_info": {
   "codemirror_mode": {
    "name": "ipython",
    "version": 3
   },
   "file_extension": ".py",
   "mimetype": "text/x-python",
   "name": "python",
   "nbconvert_exporter": "python",
   "pygments_lexer": "ipython3",
   "version": "3.6.4"
  }
 },
 "nbformat": 4,
 "nbformat_minor": 2
}
