{
 "cells": [
  {
   "cell_type": "code",
   "execution_count": 1,
   "metadata": {},
   "outputs": [],
   "source": [
    "import numpy as np\n",
    "import matplotlib.pyplot as P\n",
    "#for i in range(10): \n",
    "#    print(np.random.randint(4)+1)"
   ]
  },
  {
   "cell_type": "code",
   "execution_count": 2,
   "metadata": {},
   "outputs": [],
   "source": [
    "def drawing():\n",
    "    balls = []\n",
    "    for i in range(5):\n",
    "        balls.append(np.random.randint(69)+1)\n",
    "        balls.sort()\n",
    "    balls.append(np.random.randint(26)+1)\n",
    "    return balls"
   ]
  },
  {
   "cell_type": "code",
   "execution_count": 3,
   "metadata": {},
   "outputs": [
    {
     "name": "stdout",
     "output_type": "stream",
     "text": [
      "15 26 27 27 55 13 \n",
      "3 34 40 50 56 20 \n",
      "21 32 34 49 63 3 \n",
      "14 22 25 53 57 20 \n",
      "2 15 19 31 39 20 \n"
     ]
    }
   ],
   "source": [
    "draws=[]\n",
    "numdraws = 5\n",
    "for i in range(numdraws):\n",
    "    draws.append(drawing())\n",
    "\n",
    "for draw in draws:\n",
    "    for num in draw:\n",
    "        print(num,end=' ')\n",
    "    print()"
   ]
  },
  {
   "cell_type": "code",
   "execution_count": 4,
   "metadata": {},
   "outputs": [],
   "source": [
    "point = [3,2,1]"
   ]
  },
  {
   "cell_type": "code",
   "execution_count": 5,
   "metadata": {},
   "outputs": [
    {
     "data": {
      "text/plain": [
       "[1, 2, 3]"
      ]
     },
     "execution_count": 5,
     "metadata": {},
     "output_type": "execute_result"
    }
   ],
   "source": [
    "point.sort()\n",
    "point"
   ]
  }
 ],
 "metadata": {
  "kernelspec": {
   "display_name": "Python 3",
   "language": "python",
   "name": "python3"
  },
  "language_info": {
   "codemirror_mode": {
    "name": "ipython",
    "version": 3
   },
   "file_extension": ".py",
   "mimetype": "text/x-python",
   "name": "python",
   "nbconvert_exporter": "python",
   "pygments_lexer": "ipython3",
   "version": "3.6.4"
  }
 },
 "nbformat": 4,
 "nbformat_minor": 2
}
