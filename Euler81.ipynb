{
 "cells": [
  {
   "cell_type": "code",
   "execution_count": 2,
   "metadata": {
    "collapsed": false
   },
   "outputs": [
    {
     "data": {
      "text/plain": [
       "(80, 80)"
      ]
     },
     "execution_count": 2,
     "metadata": {},
     "output_type": "execute_result"
    }
   ],
   "source": [
    "import numpy as np\n",
    "m = np.loadtxt(\"p081_matrix.txt\", delimiter=\",\")\n",
    "m.shape\n"
   ]
  },
  {
   "cell_type": "code",
<<<<<<< HEAD
   "execution_count": 3,
=======
   "execution_count": 13,
   "metadata": {
    "collapsed": false
   },
   "outputs": [
    {
     "data": {
      "image/png": "iVBORw0KGgoAAAANSUhEUgAAAP0AAAD7CAYAAAChbJLhAAAABHNCSVQICAgIfAhkiAAAAAlwSFlz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\n+wAAAABJRU5ErkJggg==\n",
      "text/plain": [
       "<matplotlib.figure.Figure at 0x79cf320>"
      ]
     },
     "metadata": {},
     "output_type": "display_data"
    }
   ],
   "source": [
    "import matplotlib.pyplot as P\n",
    "%matplotlib inline\n",
    "P.spy(m)\n",
    "max(m.flatten());"
   ]
  },
  {
   "cell_type": "code",
   "execution_count": null,
>>>>>>> 068e2cb8d9d7c4ca8044193b09b7858add8bba48
   "metadata": {
    "collapsed": false
   },
   "outputs": [
    {
     "data": {
      "text/plain": [
       "array([[ 4445.,  2697.,  5115., ...,  2758.,  3748.,  5870.],\n",
       "       [ 1096.,    20.,  1318., ...,  4187.,  9353.,  9377.],\n",
       "       [ 9607.,  7385.,   521., ...,  9515.,  6385.,  9230.],\n",
       "       ..., \n",
       "       [ 2265.,  8192.,  1763., ...,  7456.,  5128.,  5294.],\n",
       "       [ 2132.,  8992.,  8160., ...,  5634.,  1113.,  5789.],\n",
       "       [ 5304.,  5499.,   564., ...,  2751.,  3406.,  7981.]])"
      ]
     },
     "execution_count": 3,
     "metadata": {},
     "output_type": "execute_result"
    }
   ],
   "source": [
    "m"
   ]
  }
 ],
 "metadata": {
  "kernelspec": {
   "display_name": "Python 3",
   "language": "python",
   "name": "python3"
  },
  "language_info": {
   "codemirror_mode": {
    "name": "ipython",
    "version": 3
   },
   "file_extension": ".py",
   "mimetype": "text/x-python",
   "name": "python",
   "nbconvert_exporter": "python",
   "pygments_lexer": "ipython3",
<<<<<<< HEAD
   "version": "3.5.1"
=======
   "version": "3.4.4"
>>>>>>> 068e2cb8d9d7c4ca8044193b09b7858add8bba48
  }
 },
 "nbformat": 4,
 "nbformat_minor": 0
}
