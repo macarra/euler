{
 "cells": [
  {
   "cell_type": "code",
   "execution_count": 2,
   "metadata": {},
   "outputs": [
    {
     "name": "stderr",
     "output_type": "stream",
     "text": [
      "Could Not Find C:\\Users\\HerBabes\\euler\\Euler*.nbconvert.ipynb\n"
     ]
    }
   ],
   "source": [
    "!del Euler*.nbconvert.ipynb"
   ]
  },
  {
   "cell_type": "code",
   "execution_count": 4,
   "metadata": {},
   "outputs": [
    {
     "name": "stdout",
     "output_type": "stream",
     "text": [
      "['Euler1.ipynb', 'Euler10.ipynb', 'Euler11.ipynb', 'Euler12.ipynb', 'Euler13.ipynb', 'Euler14.ipynb', 'Euler15.ipynb', 'Euler16.ipynb', 'Euler2.ipynb', 'Euler20.ipynb', 'Euler3.ipynb', 'Euler34.ipynb', 'Euler35.ipynb', 'Euler4.ipynb', 'Euler49.ipynb', 'Euler5.ipynb', 'Euler6.ipynb', 'Euler7.ipynb', 'Euler8.ipynb', 'Euler81.ipynb', 'Euler9.ipynb', 'Euler92.ipynb', 'Euler96.ipynb']\n"
     ]
    }
   ],
   "source": [
    "filelist = !dir /B Euler??.ipynb\n",
    "print(filelist)"
   ]
  },
  {
   "cell_type": "code",
   "execution_count": 1,
   "metadata": {},
   "outputs": [],
   "source": [
    "for filename in filelist:\n",
    "    !jupyter nbconvert $filename --to notebook --execute"
   ]
  },
  {
   "cell_type": "code",
   "execution_count": 2,
   "metadata": {},
   "outputs": [],
   "source": [
    "!del Euler*.nbconvert.ipynb"
   ]
  }
 ],
 "metadata": {
  "kernelspec": {
   "display_name": "Python 3",
   "language": "python",
   "name": "python3"
  },
  "language_info": {
   "codemirror_mode": {
    "name": "ipython",
    "version": 3
   },
   "file_extension": ".py",
   "mimetype": "text/x-python",
   "name": "python",
   "nbconvert_exporter": "python",
   "pygments_lexer": "ipython3",
   "version": "3.6.4"
  }
 },
 "nbformat": 4,
 "nbformat_minor": 1
}
