{
 "cells": [
  {
   "cell_type": "code",
   "execution_count": 1,
   "metadata": {},
   "outputs": [
    {
     "name": "stderr",
     "output_type": "stream",
     "text": [
      "Could Not Find C:\\Users\\Babes\\source\\euler\\Euler*.nbconvert.ipynb\n"
     ]
    }
   ],
   "source": [
    "!del Euler*.nbconvert.ipynb"
   ]
  },
  {
   "cell_type": "code",
   "execution_count": 2,
   "metadata": {},
   "outputs": [
    {
     "name": "stdout",
     "output_type": "stream",
     "text": [
      "['Euler1.ipynb', 'Euler10.ipynb', 'Euler11.ipynb', 'Euler13.ipynb', 'Euler14.ipynb', 'Euler15.ipynb', 'Euler16.ipynb', 'Euler2.ipynb', 'Euler20.ipynb', 'Euler3.ipynb', 'Euler34.ipynb', 'Euler35.ipynb', 'Euler39.ipynb', 'Euler4.ipynb', 'Euler49.ipynb', 'Euler5.ipynb', 'Euler6.ipynb', 'Euler7.ipynb', 'Euler8.ipynb', 'Euler81.ipynb', 'Euler9.ipynb', 'Euler92.ipynb', 'Euler96.ipynb', 'Euler97.ipynb']\n"
     ]
    }
   ],
   "source": [
    "filelist = !dir /B Euler??.ipynb\n",
    "print(filelist)"
   ]
  },
  {
   "cell_type": "code",
   "execution_count": null,
   "metadata": {},
   "outputs": [
    {
     "name": "stderr",
     "output_type": "stream",
     "text": [
      "[NbConvertApp] Converting notebook Euler1.ipynb to notebook\n",
      "[NbConvertApp] Writing 1478 bytes to Euler1.nbconvert.ipynb\n",
      "[NbConvertApp] Converting notebook Euler10.ipynb to notebook\n",
      "[NbConvertApp] Writing 2373 bytes to Euler10.nbconvert.ipynb\n",
      "[NbConvertApp] Converting notebook Euler11.ipynb to notebook\n",
      "Traceback (most recent call last):\n",
      "  File \"C:\\Users\\Babes\\AppData\\Local\\Packages\\PythonSoftwareFoundation.Python.3.10_qbz5n2kfra8p0\\LocalCache\\local-packages\\Python310\\site-packages\\nbformat\\reader.py\", line 14, in parse_json\n",
      "    nb_dict = json.loads(s, **kwargs)\n",
      "  File \"C:\\Program Files\\WindowsApps\\PythonSoftwareFoundation.Python.3.10_3.10.496.0_x64__qbz5n2kfra8p0\\lib\\json\\__init__.py\", line 346, in loads\n",
      "    return _default_decoder.decode(s)\n",
      "  File \"C:\\Program Files\\WindowsApps\\PythonSoftwareFoundation.Python.3.10_3.10.496.0_x64__qbz5n2kfra8p0\\lib\\json\\decoder.py\", line 337, in decode\n",
      "    obj, end = self.raw_decode(s, idx=_w(s, 0).end())\n",
      "  File \"C:\\Program Files\\WindowsApps\\PythonSoftwareFoundation.Python.3.10_3.10.496.0_x64__qbz5n2kfra8p0\\lib\\json\\decoder.py\", line 353, in raw_decode\n",
      "    obj, end = self.scan_once(s, idx)\n",
      "json.decoder.JSONDecodeError: Expecting ',' delimiter: line 93 column 1 (char 4470)\n",
      "\n",
      "The above exception was the direct cause of the following exception:\n",
      "\n",
      "Traceback (most recent call last):\n",
      "  File \"C:\\Program Files\\WindowsApps\\PythonSoftwareFoundation.Python.3.10_3.10.496.0_x64__qbz5n2kfra8p0\\lib\\runpy.py\", line 196, in _run_module_as_main\n",
      "    return _run_code(code, main_globals, None,\n",
      "  File \"C:\\Program Files\\WindowsApps\\PythonSoftwareFoundation.Python.3.10_3.10.496.0_x64__qbz5n2kfra8p0\\lib\\runpy.py\", line 86, in _run_code\n",
      "    exec(code, run_globals)\n",
      "  File \"C:\\Users\\Babes\\AppData\\Local\\Packages\\PythonSoftwareFoundation.Python.3.10_qbz5n2kfra8p0\\LocalCache\\local-packages\\Python310\\Scripts\\jupyter-nbconvert.EXE\\__main__.py\", line 7, in <module>\n",
      "  File \"C:\\Users\\Babes\\AppData\\Local\\Packages\\PythonSoftwareFoundation.Python.3.10_qbz5n2kfra8p0\\LocalCache\\local-packages\\Python310\\site-packages\\jupyter_core\\application.py\", line 264, in launch_instance\n",
      "    return super(JupyterApp, cls).launch_instance(argv=argv, **kwargs)\n",
      "  File \"C:\\Users\\Babes\\AppData\\Local\\Packages\\PythonSoftwareFoundation.Python.3.10_qbz5n2kfra8p0\\LocalCache\\local-packages\\Python310\\site-packages\\traitlets\\config\\application.py\", line 846, in launch_instance\n",
      "    app.start()\n",
      "  File \"C:\\Users\\Babes\\AppData\\Local\\Packages\\PythonSoftwareFoundation.Python.3.10_qbz5n2kfra8p0\\LocalCache\\local-packages\\Python310\\site-packages\\nbconvert\\nbconvertapp.py\", line 361, in start\n",
      "    self.convert_notebooks()\n",
      "  File \"C:\\Users\\Babes\\AppData\\Local\\Packages\\PythonSoftwareFoundation.Python.3.10_qbz5n2kfra8p0\\LocalCache\\local-packages\\Python310\\site-packages\\nbconvert\\nbconvertapp.py\", line 533, in convert_notebooks\n",
      "    self.convert_single_notebook(notebook_filename)\n",
      "  File \"C:\\Users\\Babes\\AppData\\Local\\Packages\\PythonSoftwareFoundation.Python.3.10_qbz5n2kfra8p0\\LocalCache\\local-packages\\Python310\\site-packages\\nbconvert\\nbconvertapp.py\", line 498, in convert_single_notebook\n",
      "    output, resources = self.export_single_notebook(notebook_filename, resources, input_buffer=input_buffer)\n",
      "  File \"C:\\Users\\Babes\\AppData\\Local\\Packages\\PythonSoftwareFoundation.Python.3.10_qbz5n2kfra8p0\\LocalCache\\local-packages\\Python310\\site-packages\\nbconvert\\nbconvertapp.py\", line 427, in export_single_notebook\n",
      "    output, resources = self.exporter.from_filename(notebook_filename, resources=resources)\n",
      "  File \"C:\\Users\\Babes\\AppData\\Local\\Packages\\PythonSoftwareFoundation.Python.3.10_qbz5n2kfra8p0\\LocalCache\\local-packages\\Python310\\site-packages\\nbconvert\\exporters\\exporter.py\", line 186, in from_filename\n",
      "    return self.from_file(f, resources=resources, **kw)\n",
      "  File \"C:\\Users\\Babes\\AppData\\Local\\Packages\\PythonSoftwareFoundation.Python.3.10_qbz5n2kfra8p0\\LocalCache\\local-packages\\Python310\\site-packages\\nbconvert\\exporters\\exporter.py\", line 204, in from_file\n",
      "    return self.from_notebook_node(nbformat.read(file_stream, as_version=4), resources=resources, **kw)\n",
      "  File \"C:\\Users\\Babes\\AppData\\Local\\Packages\\PythonSoftwareFoundation.Python.3.10_qbz5n2kfra8p0\\LocalCache\\local-packages\\Python310\\site-packages\\nbformat\\__init__.py\", line 143, in read\n",
      "    return reads(buf, as_version, **kwargs)\n",
      "  File \"C:\\Users\\Babes\\AppData\\Local\\Packages\\PythonSoftwareFoundation.Python.3.10_qbz5n2kfra8p0\\LocalCache\\local-packages\\Python310\\site-packages\\nbformat\\__init__.py\", line 73, in reads\n",
      "    nb = reader.reads(s, **kwargs)\n",
      "  File \"C:\\Users\\Babes\\AppData\\Local\\Packages\\PythonSoftwareFoundation.Python.3.10_qbz5n2kfra8p0\\LocalCache\\local-packages\\Python310\\site-packages\\nbformat\\reader.py\", line 58, in reads\n",
      "    nb_dict = parse_json(s, **kwargs)\n",
      "  File \"C:\\Users\\Babes\\AppData\\Local\\Packages\\PythonSoftwareFoundation.Python.3.10_qbz5n2kfra8p0\\LocalCache\\local-packages\\Python310\\site-packages\\nbformat\\reader.py\", line 17, in parse_json\n",
      "    raise NotJSONError((\"Notebook does not appear to be JSON: %r\" % s)[:77] + \"...\") from e\n",
      "nbformat.reader.NotJSONError: Notebook does not appear to be JSON: '{\\n \"cells\": [\\n  {\\n   \"cell_type\": \"c...\n",
      "[NbConvertApp] Converting notebook Euler13.ipynb to notebook\n",
      "[NbConvertApp] Writing 1162 bytes to Euler13.nbconvert.ipynb\n",
      "[NbConvertApp] Converting notebook Euler14.ipynb to notebook\n",
      "[NbConvertApp] Writing 2729 bytes to Euler14.nbconvert.ipynb\n",
      "[NbConvertApp] Converting notebook Euler15.ipynb to notebook\n",
      "[NbConvertApp] Writing 1722 bytes to Euler15.nbconvert.ipynb\n",
      "[NbConvertApp] Converting notebook Euler16.ipynb to notebook\n",
      "[NbConvertApp] Writing 1344 bytes to Euler16.nbconvert.ipynb\n",
      "[NbConvertApp] Converting notebook Euler2.ipynb to notebook\n",
      "[NbConvertApp] Writing 1313 bytes to Euler2.nbconvert.ipynb\n",
      "[NbConvertApp] Converting notebook Euler20.ipynb to notebook\n",
      "[NbConvertApp] Writing 1499 bytes to Euler20.nbconvert.ipynb\n",
      "[NbConvertApp] Converting notebook Euler3.ipynb to notebook\n",
      "[NbConvertApp] Writing 4487 bytes to Euler3.nbconvert.ipynb\n",
      "[NbConvertApp] Converting notebook Euler34.ipynb to notebook\n",
      "[NbConvertApp] Writing 2386 bytes to Euler34.nbconvert.ipynb\n",
      "[NbConvertApp] Converting notebook Euler35.ipynb to notebook\n",
      "Assertion failed: pfd.revents & POLLIN (C:\\projects\\libzmq\\src\\signaler.cpp:265)\n",
      "Traceback (most recent call last):\n",
      "  File \"C:\\Program Files\\WindowsApps\\PythonSoftwareFoundation.Python.3.10_3.10.496.0_x64__qbz5n2kfra8p0\\lib\\runpy.py\", line 196, in _run_module_as_main\n",
      "    return _run_code(code, main_globals, None,\n",
      "  File \"C:\\Program Files\\WindowsApps\\PythonSoftwareFoundation.Python.3.10_3.10.496.0_x64__qbz5n2kfra8p0\\lib\\runpy.py\", line 86, in _run_code\n",
      "    exec(code, run_globals)\n",
      "  File \"C:\\Users\\Babes\\AppData\\Local\\Packages\\PythonSoftwareFoundation.Python.3.10_qbz5n2kfra8p0\\LocalCache\\local-packages\\Python310\\Scripts\\jupyter-nbconvert.EXE\\__main__.py\", line 7, in <module>\n",
      "  File \"C:\\Users\\Babes\\AppData\\Local\\Packages\\PythonSoftwareFoundation.Python.3.10_qbz5n2kfra8p0\\LocalCache\\local-packages\\Python310\\site-packages\\jupyter_core\\application.py\", line 264, in launch_instance\n",
      "    return super(JupyterApp, cls).launch_instance(argv=argv, **kwargs)\n",
      "  File \"C:\\Users\\Babes\\AppData\\Local\\Packages\\PythonSoftwareFoundation.Python.3.10_qbz5n2kfra8p0\\LocalCache\\local-packages\\Python310\\site-packages\\traitlets\\config\\application.py\", line 846, in launch_instance\n",
      "    app.start()\n",
      "  File \"C:\\Users\\Babes\\AppData\\Local\\Packages\\PythonSoftwareFoundation.Python.3.10_qbz5n2kfra8p0\\LocalCache\\local-packages\\Python310\\site-packages\\nbconvert\\nbconvertapp.py\", line 361, in start\n",
      "    self.convert_notebooks()\n",
      "  File \"C:\\Users\\Babes\\AppData\\Local\\Packages\\PythonSoftwareFoundation.Python.3.10_qbz5n2kfra8p0\\LocalCache\\local-packages\\Python310\\site-packages\\nbconvert\\nbconvertapp.py\", line 533, in convert_notebooks\n",
      "    self.convert_single_notebook(notebook_filename)\n",
      "  File \"C:\\Users\\Babes\\AppData\\Local\\Packages\\PythonSoftwareFoundation.Python.3.10_qbz5n2kfra8p0\\LocalCache\\local-packages\\Python310\\site-packages\\nbconvert\\nbconvertapp.py\", line 498, in convert_single_notebook\n",
      "    output, resources = self.export_single_notebook(notebook_filename, resources, input_buffer=input_buffer)\n",
      "  File \"C:\\Users\\Babes\\AppData\\Local\\Packages\\PythonSoftwareFoundation.Python.3.10_qbz5n2kfra8p0\\LocalCache\\local-packages\\Python310\\site-packages\\nbconvert\\nbconvertapp.py\", line 427, in export_single_notebook\n",
      "    output, resources = self.exporter.from_filename(notebook_filename, resources=resources)\n",
      "  File \"C:\\Users\\Babes\\AppData\\Local\\Packages\\PythonSoftwareFoundation.Python.3.10_qbz5n2kfra8p0\\LocalCache\\local-packages\\Python310\\site-packages\\nbconvert\\exporters\\exporter.py\", line 186, in from_filename\n",
      "    return self.from_file(f, resources=resources, **kw)\n",
      "  File \"C:\\Users\\Babes\\AppData\\Local\\Packages\\PythonSoftwareFoundation.Python.3.10_qbz5n2kfra8p0\\LocalCache\\local-packages\\Python310\\site-packages\\nbconvert\\exporters\\exporter.py\", line 204, in from_file\n",
      "    return self.from_notebook_node(nbformat.read(file_stream, as_version=4), resources=resources, **kw)\n",
      "  File \"C:\\Users\\Babes\\AppData\\Local\\Packages\\PythonSoftwareFoundation.Python.3.10_qbz5n2kfra8p0\\LocalCache\\local-packages\\Python310\\site-packages\\nbconvert\\exporters\\notebook.py\", line 32, in from_notebook_node\n",
      "    nb_copy, resources = super().from_notebook_node(nb, resources, **kw)\n",
      "  File \"C:\\Users\\Babes\\AppData\\Local\\Packages\\PythonSoftwareFoundation.Python.3.10_qbz5n2kfra8p0\\LocalCache\\local-packages\\Python310\\site-packages\\nbconvert\\exporters\\exporter.py\", line 143, in from_notebook_node\n",
      "    nb_copy, resources = self._preprocess(nb_copy, resources)\n",
      "  File \"C:\\Users\\Babes\\AppData\\Local\\Packages\\PythonSoftwareFoundation.Python.3.10_qbz5n2kfra8p0\\LocalCache\\local-packages\\Python310\\site-packages\\nbconvert\\exporters\\exporter.py\", line 323, in _preprocess\n",
      "    nbc, resc = preprocessor(nbc, resc)\n",
      "  File \"C:\\Users\\Babes\\AppData\\Local\\Packages\\PythonSoftwareFoundation.Python.3.10_qbz5n2kfra8p0\\LocalCache\\local-packages\\Python310\\site-packages\\nbconvert\\preprocessors\\base.py\", line 47, in __call__\n",
      "    return self.preprocess(nb, resources)\n",
      "  File \"C:\\Users\\Babes\\AppData\\Local\\Packages\\PythonSoftwareFoundation.Python.3.10_qbz5n2kfra8p0\\LocalCache\\local-packages\\Python310\\site-packages\\nbconvert\\preprocessors\\execute.py\", line 84, in preprocess\n",
      "    self.preprocess_cell(cell, resources, index)\n",
      "  File \"C:\\Users\\Babes\\AppData\\Local\\Packages\\PythonSoftwareFoundation.Python.3.10_qbz5n2kfra8p0\\LocalCache\\local-packages\\Python310\\site-packages\\nbconvert\\preprocessors\\execute.py\", line 105, in preprocess_cell\n",
      "    cell = self.execute_cell(cell, index, store_history=True)\n",
      "  File \"C:\\Users\\Babes\\AppData\\Local\\Packages\\PythonSoftwareFoundation.Python.3.10_qbz5n2kfra8p0\\LocalCache\\local-packages\\Python310\\site-packages\\nbclient\\util.py\", line 84, in wrapped\n",
      "    return just_run(coro(*args, **kwargs))\n",
      "  File \"C:\\Users\\Babes\\AppData\\Local\\Packages\\PythonSoftwareFoundation.Python.3.10_qbz5n2kfra8p0\\LocalCache\\local-packages\\Python310\\site-packages\\nbclient\\util.py\", line 62, in just_run\n",
      "    return loop.run_until_complete(coro)\n",
      "  File \"C:\\Program Files\\WindowsApps\\PythonSoftwareFoundation.Python.3.10_3.10.496.0_x64__qbz5n2kfra8p0\\lib\\asyncio\\base_events.py\", line 641, in run_until_complete\n",
      "    return future.result()\n",
      "  File \"C:\\Users\\Babes\\AppData\\Local\\Packages\\PythonSoftwareFoundation.Python.3.10_qbz5n2kfra8p0\\LocalCache\\local-packages\\Python310\\site-packages\\nbclient\\client.py\", line 854, in async_execute_cell\n",
      "    self._check_raise_for_error(cell, exec_reply)\n",
      "  File \"C:\\Users\\Babes\\AppData\\Local\\Packages\\PythonSoftwareFoundation.Python.3.10_qbz5n2kfra8p0\\LocalCache\\local-packages\\Python310\\site-packages\\nbclient\\client.py\", line 756, in _check_raise_for_error\n",
      "    raise CellExecutionError.from_cell_and_msg(cell, exec_reply_content)\n",
      "nbclient.exceptions.CellExecutionError: An error occurred while executing the following cell:\n",
      "------------------\n",
      "list2num(rotate(numlist,1))\n",
      "\n",
      "------------------\n",
      "\n",
      "\u001b[1;31m---------------------------------------------------------------------------\u001b[0m\n",
      "\u001b[1;31mNameError\u001b[0m                                 Traceback (most recent call last)\n",
      "\u001b[1;32m~\\AppData\\Local\\Temp/ipykernel_23392/923171331.py\u001b[0m in \u001b[0;36m<module>\u001b[1;34m\u001b[0m\n",
      "\u001b[1;32m----> 1\u001b[1;33m \u001b[0mlist2num\u001b[0m\u001b[1;33m(\u001b[0m\u001b[0mrotate\u001b[0m\u001b[1;33m(\u001b[0m\u001b[0mnumlist\u001b[0m\u001b[1;33m,\u001b[0m\u001b[1;36m1\u001b[0m\u001b[1;33m)\u001b[0m\u001b[1;33m)\u001b[0m\u001b[1;33m\u001b[0m\u001b[1;33m\u001b[0m\u001b[0m\n",
      "\u001b[0m\n",
      "\u001b[1;31mNameError\u001b[0m: name 'list2num' is not defined\n",
      "NameError: name 'list2num' is not defined\n",
      "\n"
     ]
    }
   ],
   "source": [
    "for filename in filelist:\n",
    "    !jupyter nbconvert $filename --to notebook --execute"
   ]
  },
  {
   "cell_type": "code",
   "execution_count": 2,
   "metadata": {},
   "outputs": [],
   "source": [
    "!del Euler*.nbconvert.ipynb"
   ]
  }
 ],
 "metadata": {
  "kernelspec": {
   "display_name": "Python 3 (ipykernel)",
   "language": "python",
   "name": "python3"
  },
  "language_info": {
   "codemirror_mode": {
    "name": "ipython",
    "version": 3
   },
   "file_extension": ".py",
   "mimetype": "text/x-python",
   "name": "python",
   "nbconvert_exporter": "python",
   "pygments_lexer": "ipython3",
   "version": "3.10.1"
  }
 },
 "nbformat": 4,
 "nbformat_minor": 1
}
