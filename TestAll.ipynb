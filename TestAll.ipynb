{
 "cells": [
  {
   "cell_type": "code",
   "execution_count": 1,
   "metadata": {
    "collapsed": false
   },
   "outputs": [],
   "source": [
    "!del Euler*.nbconvert.ipynb"
   ]
  },
  {
   "cell_type": "code",
   "execution_count": 5,
   "metadata": {
    "collapsed": false
   },
   "outputs": [
    {
     "name": "stdout",
     "output_type": "stream",
     "text": [
      "['Euler1.ipynb', 'Euler2.ipynb', 'Euler3.ipynb', 'Euler4.ipynb', 'Euler5.ipynb', 'Euler6.ipynb', 'Euler7.ipynb', 'Euler8.ipynb', 'Euler9.ipynb']\n"
     ]
    }
   ],
   "source": [
    "filelist = !dir /B Euler?.ipynb\n",
    "print(filelist)"
   ]
  },
  {
   "cell_type": "code",
   "execution_count": 6,
   "metadata": {
    "collapsed": false
   },
   "outputs": [
    {
     "name": "stderr",
     "output_type": "stream",
     "text": [
      "[NbConvertApp] Converting notebook Euler1.ipynb to notebook\n",
      "[NbConvertApp] Executing notebook with kernel: python3\n",
      "[NbConvertApp] Writing 1085 bytes to Euler1.nbconvert.ipynb\n",
      "[NbConvertApp] Converting notebook Euler2.ipynb to notebook\n",
      "[NbConvertApp] Executing notebook with kernel: python3\n",
      "[NbConvertApp] Writing 1055 bytes to Euler2.nbconvert.ipynb\n",
      "[NbConvertApp] Converting notebook Euler3.ipynb to notebook\n",
      "[NbConvertApp] Executing notebook with kernel: python3\n",
      "[NbConvertApp] Writing 3715 bytes to Euler3.nbconvert.ipynb\n",
      "[NbConvertApp] Converting notebook Euler4.ipynb to notebook\n",
      "[NbConvertApp] Executing notebook with kernel: python3\n",
      "[NbConvertApp] Writing 1129 bytes to Euler4.nbconvert.ipynb\n",
      "[NbConvertApp] Converting notebook Euler5.ipynb to notebook\n",
      "[NbConvertApp] Executing notebook with kernel: python3\n",
      "[NbConvertApp] Writing 1533 bytes to Euler5.nbconvert.ipynb\n",
      "[NbConvertApp] Converting notebook Euler6.ipynb to notebook\n",
      "[NbConvertApp] Executing notebook with kernel: python3\n",
      "[NbConvertApp] Writing 2650 bytes to Euler6.nbconvert.ipynb\n",
      "[NbConvertApp] Converting notebook Euler7.ipynb to notebook\n",
      "[NbConvertApp] Executing notebook with kernel: python3\n",
      "[NbConvertApp] Writing 219531 bytes to Euler7.nbconvert.ipynb\n",
      "[NbConvertApp] Converting notebook Euler8.ipynb to notebook\n",
      "[NbConvertApp] Executing notebook with kernel: python3\n",
      "[NbConvertApp] Writing 4053 bytes to Euler8.nbconvert.ipynb\n",
      "[NbConvertApp] Converting notebook Euler9.ipynb to notebook\n",
      "[NbConvertApp] Executing notebook with kernel: python3\n",
      "[NbConvertApp] Writing 1578 bytes to Euler9.nbconvert.ipynb\n"
     ]
    }
   ],
   "source": [
    "for filename in filelist:\n",
    "    !jupyter nbconvert $filename --to notebook --execute"
   ]
  },
  {
   "cell_type": "code",
   "execution_count": 7,
   "metadata": {
    "collapsed": true
   },
   "outputs": [],
   "source": [
    "!del Euler*.nbconvert.ipynb"
   ]
  },
  {
   "cell_type": "code",
   "execution_count": null,
   "metadata": {
    "collapsed": true
   },
   "outputs": [],
   "source": []
  }
 ],
 "metadata": {
  "kernelspec": {
   "display_name": "Python 3",
   "language": "python",
   "name": "python3"
  },
  "language_info": {
   "codemirror_mode": {
    "name": "ipython",
    "version": 3
   },
   "file_extension": ".py",
   "mimetype": "text/x-python",
   "name": "python",
   "nbconvert_exporter": "python",
   "pygments_lexer": "ipython3",
   "version": "3.5.1"
  }
 },
 "nbformat": 4,
 "nbformat_minor": 0
}
