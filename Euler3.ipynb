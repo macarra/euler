{
 "cells": [
  {
   "cell_type": "code",
   "execution_count": 1,
   "metadata": {
    "collapsed": true
   },
   "outputs": [],
   "source": [
    "import math as math\n",
    "import numpy as np\n",
    "prime=600851475143\n",
    "np.set_printoptions(precision=100)\n",
    "#Pollard's rho algorithm for factorization can be implemented as:\n",
    "def gcd(a,b):\n",
    "    if a == 0:\n",
    "        return b\n",
    "    return gcd(b % a, a)"
   ]
  },
  {
   "cell_type": "code",
   "execution_count": 2,
   "metadata": {
    "collapsed": true
   },
   "outputs": [],
   "source": [
    "def factorPR(n):\n",
    "    for slow in [2,3,4,6]:\n",
    "        numsteps=2*math.floor(math.sqrt(math.sqrt(n))); fast=slow; i=1\n",
    "        while i<numsteps:\n",
    "            slow = (slow*slow + 1) % n\n",
    "            i = i + 1\n",
    "            fast = (fast*fast + 1) % n\n",
    "            fast = (fast*fast + 1) % n\n",
    "            g = gcd(fast-slow,n)\n",
    "            if (g != 1):\n",
    "                if (g == n):\n",
    "                    break # try a new base\n",
    "                else:\n",
    "                    return g\n",
    "    return 1 # fail to factor"
   ]
  },
  {
   "cell_type": "code",
   "execution_count": 3,
   "metadata": {
    "collapsed": false
   },
   "outputs": [
    {
     "name": "stdout",
     "output_type": "stream",
     "text": [
      "1\n",
      "{1}\n",
      "\n",
      "8462696833\n",
      "{1, 8462696833, 839, 1471, 6857, 10086647, 1234169, 5753023}\n",
      "\n",
      "716151937\n",
      "{1, 716151937, 71, 486847, 6857, 10086647, 104441, 1471}\n",
      "\n",
      "5753023\n",
      "{1, 6857, 839, 5753023}\n",
      "\n",
      "1234169\n",
      "{1, 1471, 1234169, 839}\n",
      "\n",
      "839\n",
      "{1, 839}\n",
      "\n",
      "71\n",
      "{1, 71}\n",
      "\n",
      "600851475143\n",
      "{1, 8462696833, 716151937, 5753023, 1234169, 839, 71, 600851475143, 6857, 486847, 87625999, 59569, 10086647, 408464633, 104441, 1471}\n",
      "\n",
      "6857\n",
      "{1, 6857}\n",
      "\n",
      "486847\n",
      "{1, 6857, 71, 486847}\n",
      "\n",
      "87625999\n",
      "{1, 1234169, 839, 71, 87625999, 59569, 104441, 1471}\n",
      "\n",
      "59569\n",
      "{1, 59569, 839, 71}\n",
      "\n",
      "10086647\n",
      "{1, 6857, 1471, 10086647}\n",
      "\n",
      "408464633\n",
      "{1, 839, 71, 486847, 6857, 59569, 408464633, 5753023}\n",
      "\n",
      "104441\n",
      "{1, 1471, 104441, 71}\n",
      "\n",
      "1471\n",
      "{1, 1471}\n",
      "\n"
     ]
    }
   ],
   "source": [
    "#def factors(n):    \n",
    "#    return set(reduce(list.__add__,  ([i, n//i] for i in range(1, int(n**0.5) + 1) if n % i == 0)))\n",
    "\n",
    "def factors(n):\n",
    "    return set(x for tup in ([i, n//i] \n",
    "                for i in range(1, int(n**0.5)+1) if n % i == 0) \n",
    "                                for x in tup)\n",
    "\n",
    "x=[]\n",
    "\n",
    "x = factors(prime)\n",
    "\n",
    "for z in x:\n",
    "    print(z)\n",
    "    print(factors(z))\n",
    "    print()\n"
   ]
  },
  {
   "cell_type": "markdown",
   "metadata": {},
   "source": [
    "largest PRIME factor is 6857"
   ]
  }
 ],
 "metadata": {
  "kernelspec": {
   "display_name": "Python 3",
   "language": "python",
   "name": "python3"
  },
  "language_info": {
   "codemirror_mode": {
    "name": "ipython",
    "version": 3
   },
   "file_extension": ".py",
   "mimetype": "text/x-python",
   "name": "python",
   "nbconvert_exporter": "python",
   "pygments_lexer": "ipython3",
   "version": "3.4.4"
  }
 },
 "nbformat": 4,
 "nbformat_minor": 0
}
