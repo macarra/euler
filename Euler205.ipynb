{
 "cells": [
  {
   "cell_type": "markdown",
   "metadata": {},
   "source": [
    "\n",
    "\n",
    "Peter has nine four-sided (pyramidal) dice, each with faces numbered 1, 2, 3, 4.\n",
    "Colin has six six-sided (cubic) dice, each with faces numbered 1, 2, 3, 4, 5, 6.\n",
    "\n",
    "Peter and Colin roll their dice and compare totals: the highest total wins. The result is a draw if the totals are equal.\n",
    "\n",
    "What is the probability that Pyramidal Pete beats Cubic Colin? Give your answer rounded to seven decimal places in the form 0.abcdefg\n"
   ]
  },
  {
   "cell_type": "code",
   "execution_count": 1,
   "metadata": {},
   "outputs": [
    {
     "name": "stdout",
     "output_type": "stream",
     "text": [
      "{9: 1, 10: 9, 11: 45, 12: 165, 13: 486, 14: 1206, 15: 2598, 16: 4950, 17: 8451, 18: 13051, 19: 18351, 20: 23607, 21: 27876, 22: 30276, 23: 30276, 24: 27876, 25: 23607, 26: 18351, 27: 13051, 28: 8451, 29: 4950, 30: 2598, 31: 1206, 32: 486, 33: 165, 34: 45, 35: 9, 36: 1}\n"
     ]
    }
   ],
   "source": [
    "sum4s = dict()\n",
    "for dsum in range(9,37): sum4s[dsum]=0\n",
    "for w in range(1,5):\n",
    "    for x in range(1,5):\n",
    "        for y in range(1,5):\n",
    "            for z in range(1,5):\n",
    "                for w1 in range(1,5):\n",
    "                    for x1 in range(1,5):\n",
    "                         for y1 in range(1,5):\n",
    "                             for z1 in range(1,5):\n",
    "                                 for a in range(1,5):              \n",
    "                                    dsum = w + x + y + z + w1 +x1 + y1 + z1 + a\n",
    "                                    sum4s[dsum]+= 1\n",
    "print(sum4s)"
   ]
  },
  {
   "cell_type": "code",
   "execution_count": 5,
   "metadata": {},
   "outputs": [
    {
     "name": "stdout",
     "output_type": "stream",
     "text": [
      "{6: 1, 7: 6, 8: 21, 9: 56, 10: 126, 11: 252, 12: 456, 13: 756, 14: 1161, 15: 1666, 16: 2247, 17: 2856, 18: 3431, 19: 3906, 20: 4221, 21: 4332, 22: 4221, 23: 3906, 24: 3431, 25: 2856, 26: 2247, 27: 1666, 28: 1161, 29: 756, 30: 456, 31: 252, 32: 126, 33: 56, 34: 21, 35: 6, 36: 1}\n"
     ]
    }
   ],
   "source": [
    "sum6s = dict()\n",
    "for dsum in range(6,37): sum6s[dsum]=0\n",
    "for w in range(1,7):\n",
    "    for x in range(1,7):\n",
    "        for y in range(1,7):\n",
    "            for z in range(1,7):\n",
    "                for a in range(1,7):\n",
    "                    for b in range(1,7):\n",
    "                        dsum = w + x + y + z + a + b\n",
    "                        sum6s[dsum]+= 1\n",
    "print(sum6s)"
   ]
  },
  {
   "cell_type": "code",
   "execution_count": 6,
   "metadata": {},
   "outputs": [
    {
     "name": "stdout",
     "output_type": "stream",
     "text": [
      "7009890480 12230590464 0.5731440767829801\n"
     ]
    }
   ],
   "source": [
    "total = 0 \n",
    "wins = 0\n",
    "for x in range(9,37):\n",
    "    for y in range(6,37):\n",
    "        total += sum4s[x]*sum6s[y]\n",
    "        if ( x > y):\n",
    "            wins += sum4s[x]*sum6s[y]\n",
    "print(wins,total,wins/total)"
   ]
  },
  {
   "cell_type": "code",
   "execution_count": 7,
   "metadata": {},
   "outputs": [],
   "source": [
    "answer = 0.5731441"
   ]
  }
 ],
 "metadata": {
  "kernelspec": {
   "display_name": "saturn (Python 3)",
   "language": "python",
   "name": "python3"
  },
  "language_info": {
   "codemirror_mode": {
    "name": "ipython",
    "version": 3
   },
   "file_extension": ".py",
   "mimetype": "text/x-python",
   "name": "python",
   "nbconvert_exporter": "python",
   "pygments_lexer": "ipython3",
   "version": "3.9.12"
  }
 },
 "nbformat": 4,
 "nbformat_minor": 2
}
