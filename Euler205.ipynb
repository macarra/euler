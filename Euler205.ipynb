{
 "cells": [
  {
   "cell_type": "markdown",
   "metadata": {},
   "source": [
    "\n",
    "\n",
    "Peter has nine four-sided (pyramidal) dice, each with faces numbered 1, 2, 3, 4.\n",
    "Colin has six six-sided (cubic) dice, each with faces numbered 1, 2, 3, 4, 5, 6.\n",
    "\n",
    "Peter and Colin roll their dice and compare totals: the highest total wins. The result is a draw if the totals are equal.\n",
    "\n",
    "What is the probability that Pyramidal Pete beats Cubic Colin? Give your answer rounded to seven decimal places in the form 0.abcdefg\n"
   ]
  },
  {
   "cell_type": "code",
   "execution_count": 15,
   "metadata": {},
   "outputs": [
    {
     "name": "stdout",
     "output_type": "stream",
     "text": [
      "{9: 1, 10: 9, 11: 45, 12: 165, 13: 486, 14: 1206, 15: 2598, 16: 4950, 17: 8451, 18: 13051, 19: 18351, 20: 23607, 21: 27876, 22: 30276, 23: 30276, 24: 27876, 25: 23607, 26: 18351, 27: 13051, 28: 8451, 29: 4950, 30: 2598, 31: 1206, 32: 486, 33: 165, 34: 45, 35: 9, 36: 1}\n"
     ]
    }
   ],
   "source": [
    "sum4s = dict()\n",
    "for dsum in range(9,37): sum4s[dsum]=0\n",
    "for w in range(1,5):\n",
    "    for x in range(1,5):\n",
    "        for y in range(1,5):\n",
    "            for z in range(1,5):\n",
    "                for w1 in range(1,5):\n",
    "                    for x1 in range(1,5):\n",
    "                         for y1 in range(1,5):\n",
    "                             for z1 in range(1,5):\n",
    "                                 for a in range(1,5):              \n",
    "                                    dsum = w + x + y + z + w1 +x1 + y1 + z1 + a\n",
    "                                    sum4s[dsum]+= 1\n",
    "print(sum4s)"
   ]
  },
  {
   "cell_type": "code",
   "execution_count": 14,
   "metadata": {},
   "outputs": [
    {
     "name": "stdout",
     "output_type": "stream",
     "text": [
      "{6: 1, 7: 6, 8: 21, 9: 56, 10: 126, 11: 252, 12: 456, 13: 756, 14: 1161, 15: 1666, 16: 2247, 17: 2856, 18: 3431, 19: 3906, 20: 4221, 21: 4332, 22: 4221, 23: 3906, 24: 3431, 25: 2856, 26: 2247, 27: 1666, 28: 1161, 29: 756, 30: 456, 31: 252, 32: 126, 33: 56, 34: 21, 35: 6, 36: 1}\n"
     ]
    }
   ],
   "source": [
    "sum6s = dict()\n",
    "for dsum in range(6,37): sum6s[dsum]=0\n",
    "for w in range(1,7):\n",
    "    for x in range(1,7):\n",
    "        for y in range(1,7):\n",
    "            for z in range(1,7):\n",
    "                for a in range(1,7):\n",
    "                    for b in range(1,7):\n",
    "                        dsum = w + x + y + z + a + b\n",
    "                        sum6s[dsum]+= 1\n",
    "print(sum6s)"
   ]
  },
  {
   "cell_type": "code",
   "execution_count": 30,
   "metadata": {},
   "outputs": [
    {
     "name": "stdout",
     "output_type": "stream",
     "text": [
      "For x = 9 x prob = 1 win prob = 28\n",
      "For x = 10 x prob = 9 win prob = 784\n",
      "For x = 11 x prob = 45 win prob = 10234\n",
      "For x = 12 x prob = 165 win prob = 86464\n",
      "For x = 13 x prob = 486 win prob = 532612\n",
      "For x = 14 x prob = 1206 win prob = 2551456\n",
      "For x = 15 x prob = 2598 win prob = 9916786\n",
      "For x = 16 x prob = 4950 win prob = 32196736\n",
      "For x = 17 x prob = 8451 win prob = 89224084\n",
      "For x = 18 x prob = 13051 win prob = 214565888\n",
      "For x = 19 x prob = 18351 win prob = 453771173\n",
      "For x = 20 x prob = 23607 win prob = 853697360\n",
      "For x = 21 x prob = 27876 win prob = 1443609272\n",
      "For x = 22 x prob = 30276 win prob = 2215465616\n",
      "For x = 23 x prob = 30276 win prob = 3115116956\n",
      "For x = 24 x prob = 27876 win prob = 4052335952\n",
      "For x = 25 x prob = 23607 win prob = 4927022516\n",
      "For x = 26 x prob = 18351 win prob = 5659374224\n",
      "For x = 27 x prob = 13051 win prob = 6209539129\n",
      "For x = 28 x prob = 8451 win prob = 6579870400\n",
      "For x = 29 x prob = 4950 win prob = 6802531300\n",
      "For x = 30 x prob = 2598 win prob = 6921358624\n",
      "For x = 31 x prob = 1206 win prob = 6977068588\n",
      "For x = 32 x prob = 486 win prob = 6999641344\n",
      "For x = 33 x prob = 165 win prob = 7007325724\n",
      "For x = 34 x prob = 45 win prob = 7009423984\n",
      "For x = 35 x prob = 9 win prob = 7009843825\n",
      "For x = 36 x prob = 1 win prob = 7009890480\n",
      "Probability =  0.5731440767829801\n"
     ]
    }
   ],
   "source": [
    "total = 4**9 * 6**6\n",
    "wins = 0\n",
    "probtotal = 0\n",
    "for x in range(9,37):\n",
    "    print(\"For x =\",x,end='')\n",
    "    xprob=sum4s[x]\n",
    "    print(\" x prob =\",xprob,end='')\n",
    "    yprob=0\n",
    "    for y in range(6,37):\n",
    "        if ( x > y):\n",
    "            yprob+=sum6s[y]\n",
    "    probtotal += xprob*yprob\n",
    "    print(\" win prob =\",probtotal)\n",
    "print(\"Probability = \",probtotal/total)\n"
   ]
  },
  {
   "cell_type": "code",
   "execution_count": 84,
   "metadata": {},
   "outputs": [
    {
     "name": "stdout",
     "output_type": "stream",
     "text": [
      "23\n",
      "23\n"
     ]
    },
    {
     "data": {
      "text/plain": [
       "62"
      ]
     },
     "execution_count": 84,
     "metadata": {},
     "output_type": "execute_result"
    }
   ],
   "source": [
    "## Try a different tack Lots of runs\n",
    "import random\n",
    "def Roll4s(n=9):\n",
    "    dsum = 0\n",
    "    for x in range(n): \n",
    "        dsum += random.randint(1,4)\n",
    "    return dsum\n",
    "def Roll6s(n=6):\n",
    "    dsum = 0\n",
    "    for x in range(n): \n",
    "        dsum += random.randint(1,6)\n",
    "    return dsum\n",
    "\n",
    "def trials(n=100):\n",
    "    wins=0\n",
    "    for x in range(n):\n",
    "        d6=Roll6s()\n",
    "        d4=Roll4s()\n",
    "        if d4>d6: wins+=1\n",
    "    return(wins)"
   ]
  },
  {
   "cell_type": "code",
   "execution_count": 89,
   "metadata": {},
   "outputs": [
    {
     "name": "stdout",
     "output_type": "stream",
     "text": [
      "5730020 10000000 0.573002\n"
     ]
    }
   ],
   "source": [
    "N=10000000\n",
    "wins=trials(N)\n",
    "print(wins,N,wins/N)"
   ]
  },
  {
   "cell_type": "code",
   "execution_count": null,
   "metadata": {},
   "outputs": [],
   "source": [
    "#Try three 2 sided and two 3-sided\n",
    "1 1 1  1 1 - 2\n",
    "       1 2 - 3    chances for 3-sided\n",
    "       1 3 - 4             2 == 1/9\n",
    "       2 1 - 3             3 == 2/9\n",
    "       2 2 - 4             4 == 3/9\n",
    "       2 3 - 5             5 == 2/9\n",
    "       3 1 - 4             6 == 1/9\n",
    "       3 2 - 5\n",
    "       3 3 - 6\n",
    "       total = 3 * 3 = 9\n",
    "\n",
    "1 1 1  total = 3 , beats 2,    chance is 1/9\n",
    "1 1 2  total = 4,  beats 2,3   chance is 1/9 + 2/9\n",
    "1 2 1  total = 4,  beats 2,3   chance is 1/9 + 2/9\n",
    "1 2 2  total = 5,  beats 2,3,4 chance is 1/9 +2/9 + 3/9\n",
    "2 1 1  total = 4,  beats 2,3,  chance is 1/9 + 2/9\n",
    "2 1 2  total = 5,  beats 2,3,4  chance is 1/9 + 2/9 +3/9\n",
    "2 2 1  total = 5,  beats,2,3,4 chance is 1/9 + 2/9 +3/9\n",
    "2 2 2  total = 6,  beats 2,3,4,5 chance is 1/9+2/9+3/9+2/9\n",
    "\n",
    "chances for 2-sided\n",
    "  3 == 1/8\n",
    "  4 == 3/8\n",
    "  5 == 3/8\n",
    "  6 == 1/8\n",
    "  \n",
    "probability of 2-side win:\n",
    "1/8 * 1/9\n",
    "3/8 * 3/9\n",
    "3/8 * 6/9\n",
    "1/8 * 8/9\n",
    "----------\n",
    "(1 + 9 + 18 + 8) /72  == 1/2??\n",
    "\n",
    "total = 2*2*2 = 8\n",
    "\n",
    "\n",
    "total combos = 8 from 2sided * 9 from 3sided = 72 possibilites.\n",
    "\n",
    "\n"
   ]
  },
  {
   "cell_type": "code",
   "execution_count": 1,
   "metadata": {},
   "outputs": [],
   "source": [
    "## Try a different tack Lots of runs\n",
    "import random\n",
    "def Roll2s(n=3):\n",
    "    dsum = 0\n",
    "    for x in range(n): \n",
    "        dsum += random.randint(1,2)\n",
    "    return dsum\n",
    "def Roll3s(n=2):\n",
    "    dsum = 0\n",
    "    for x in range(n): \n",
    "        dsum += random.randint(1,3)\n",
    "    return dsum\n",
    "\n",
    "def trials(n=100):\n",
    "    wins=0\n",
    "    for x in range(n):\n",
    "        d3=Roll3s()\n",
    "        d2=Roll2s()\n",
    "        if d2>d3: wins+=1\n",
    "    return(wins)"
   ]
  },
  {
   "cell_type": "code",
   "execution_count": 8,
   "metadata": {},
   "outputs": [
    {
     "name": "stdout",
     "output_type": "stream",
     "text": [
      "5001745 10000000 0.5001745\n"
     ]
    }
   ],
   "source": [
    "N=10000000\n",
    "wins=trials(N)\n",
    "print(wins,N,wins/N)"
   ]
  },
  {
   "cell_type": "code",
   "execution_count": 32,
   "metadata": {},
   "outputs": [
    {
     "name": "stdout",
     "output_type": "stream",
     "text": [
      "{3: 1, 4: 3, 5: 3, 6: 1}\n"
     ]
    }
   ],
   "source": [
    "sum2s = dict()\n",
    "for dsum in range(3,7): sum2s[dsum]=0\n",
    "for w in range(1,3):\n",
    "    for x in range(1,3):\n",
    "        for y in range(1,3):\n",
    "            dsum = w + x + y\n",
    "            sum2s[dsum]+= 1\n",
    "print(sum2s)"
   ]
  },
  {
   "cell_type": "code",
   "execution_count": 35,
   "metadata": {},
   "outputs": [
    {
     "name": "stdout",
     "output_type": "stream",
     "text": [
      "{2: 1, 3: 2, 4: 3, 5: 2, 6: 1}\n"
     ]
    }
   ],
   "source": [
    "sum3s = dict()\n",
    "for dsum in range(2,7): sum3s[dsum]=0\n",
    "for w in range(1,4):\n",
    "    for x in range(1,4):\n",
    "        dsum = w + x \n",
    "        sum3s[dsum]+= 1\n",
    "print(sum3s)"
   ]
  },
  {
   "cell_type": "code",
   "execution_count": 36,
   "metadata": {},
   "outputs": [
    {
     "name": "stdout",
     "output_type": "stream",
     "text": [
      "For x = 3 x prob = 1 win prob = 1\n",
      "For x = 4 x prob = 3 win prob = 10\n",
      "For x = 5 x prob = 3 win prob = 28\n",
      "For x = 6 x prob = 1 win prob = 36\n",
      "Probability =  0.5\n"
     ]
    }
   ],
   "source": [
    "total = 2**3 * 3**2\n",
    "wins = 0\n",
    "probtotal = 0\n",
    "for x in range(3,7):\n",
    "    print(\"For x =\",x,end='')\n",
    "    xprob=sum2s[x]\n",
    "    print(\" x prob =\",xprob,end='')\n",
    "    yprob=0\n",
    "    for y in range(2,7):\n",
    "        if ( x > y):\n",
    "            yprob+=sum3s[y]\n",
    "    probtotal += xprob*yprob\n",
    "    print(\" win prob =\",probtotal)\n",
    "print(\"Probability = \",probtotal/total)\n"
   ]
  },
  {
   "cell_type": "code",
   "execution_count": null,
   "metadata": {},
   "outputs": [],
   "source": []
  }
 ],
 "metadata": {
  "kernelspec": {
   "display_name": "Python 3",
   "language": "python",
   "name": "python3"
  },
  "language_info": {
   "codemirror_mode": {
    "name": "ipython",
    "version": 3
   },
   "file_extension": ".py",
   "mimetype": "text/x-python",
   "name": "python",
   "nbconvert_exporter": "python",
   "pygments_lexer": "ipython3",
   "version": "3.6.4"
  }
 },
 "nbformat": 4,
 "nbformat_minor": 2
}
