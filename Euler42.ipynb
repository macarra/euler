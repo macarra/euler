{
 "cells": [
  {
   "cell_type": "raw",
   "id": "e160df14",
   "metadata": {},
   "source": [
    "Euler 42\n",
    "\n",
    "The nth term of the sequence of triangle numbers is given by, tn = ½n(n+1); so the first ten triangle numbers are:\n",
    "\n",
    "1, 3, 6, 10, 15, 21, 28, 36, 45, 55, ...\n",
    "\n",
    "By converting each letter in a word to a number corresponding to its alphabetical position and adding these values we form a word value. For example, the word value for SKY is 19 + 11 + 25 = 55 = t10. If the word value is a triangle number then we shall call the word a triangle word.\n",
    "\n",
    "Using words.txt (right click and 'Save Link/Target As...'), a 16K text file containing nearly two-thousand common English words, how many are triangle words?\n"
   ]
  },
  {
   "cell_type": "code",
   "execution_count": 10,
   "id": "ff0b3326",
   "metadata": {},
   "outputs": [
    {
     "data": {
      "text/plain": [
       "['A',\n",
       " 'ABILITY',\n",
       " 'ABLE',\n",
       " 'ABOUT',\n",
       " 'ABOVE',\n",
       " 'ABSENCE',\n",
       " 'ABSOLUTELY',\n",
       " 'ACADEMIC',\n",
       " 'ACCEPT',\n",
       " 'ACCESS']"
      ]
     },
     "execution_count": 10,
     "metadata": {},
     "output_type": "execute_result"
    }
   ],
   "source": [
    "fin = open('p042_words.txt')\n",
    "wordstring = fin.read()\n",
    "wordstring='['+wordstring+']'\n",
    "wordlist = eval(wordstring)\n",
    "fin.close()\n",
    "wordlist[0:10]"
   ]
  },
  {
   "cell_type": "code",
   "execution_count": null,
   "id": "b21214b9",
   "metadata": {},
   "outputs": [],
   "source": []
  }
 ],
 "metadata": {
  "kernelspec": {
   "display_name": "Python 3 (ipykernel)",
   "language": "python",
   "name": "python3"
  },
  "language_info": {
   "codemirror_mode": {
    "name": "ipython",
    "version": 3
   },
   "file_extension": ".py",
   "mimetype": "text/x-python",
   "name": "python",
   "nbconvert_exporter": "python",
   "pygments_lexer": "ipython3",
   "version": "3.10.5"
  }
 },
 "nbformat": 4,
 "nbformat_minor": 5
}
